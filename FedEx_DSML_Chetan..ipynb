{
 "cells": [
  {
   "cell_type": "code",
   "execution_count": 1,
   "id": "77d5029e",
   "metadata": {},
   "outputs": [],
   "source": [
    "import pandas as pd\n",
    "import numpy as np\n",
    "import seaborn as sns\n",
    "import matplotlib.pyplot as plt\n",
    "%matplotlib inline\n",
    "import warnings\n",
    "warnings.filterwarnings(\"ignore\")"
   ]
  },
  {
   "cell_type": "markdown",
   "id": "f4b543ac",
   "metadata": {},
   "source": [
    "Attribute Information:\n",
    "1. BI-RADS assessment: 1 to 5 (ordinal, non-predictive!)\n",
    "2. Age: patient's age in years (integer)\n",
    "3. Shape: mass shape: round=1 oval=2 lobular=3 irregular=4 (nominal)\n",
    "4. Margin: mass margin: circumscribed=1 microlobulated=2 obscured=3 ill-defined=4 spiculated=5 (nominal)\n",
    "5. Density: mass density high=1 iso=2 low=3 fat-containing=4 (ordinal)\n",
    "6. Severity: benign=0 or malignant=1 (binominal, goal field!)"
   ]
  },
  {
   "cell_type": "code",
   "execution_count": 2,
   "id": "42005995",
   "metadata": {},
   "outputs": [
    {
     "data": {
      "text/plain": [
       "((811, 7), (150, 7))"
      ]
     },
     "execution_count": 2,
     "metadata": {},
     "output_type": "execute_result"
    }
   ],
   "source": [
    "##  read the file\n",
    "df=pd.read_excel(\"Train.xlsx\")\n",
    "df1=pd.read_excel(\"Test.xlsx\")\n",
    "df.shape,df1.shape"
   ]
  },
  {
   "cell_type": "code",
   "execution_count": 3,
   "id": "4b91c53a",
   "metadata": {},
   "outputs": [
    {
     "data": {
      "text/html": [
       "<div>\n",
       "<style scoped>\n",
       "    .dataframe tbody tr th:only-of-type {\n",
       "        vertical-align: middle;\n",
       "    }\n",
       "\n",
       "    .dataframe tbody tr th {\n",
       "        vertical-align: top;\n",
       "    }\n",
       "\n",
       "    .dataframe thead th {\n",
       "        text-align: right;\n",
       "    }\n",
       "</style>\n",
       "<table border=\"1\" class=\"dataframe\">\n",
       "  <thead>\n",
       "    <tr style=\"text-align: right;\">\n",
       "      <th></th>\n",
       "      <th>Index</th>\n",
       "      <th>BI_RADS</th>\n",
       "      <th>Age</th>\n",
       "      <th>Shape</th>\n",
       "      <th>Margin</th>\n",
       "      <th>Mass_Density</th>\n",
       "      <th>Severity</th>\n",
       "    </tr>\n",
       "  </thead>\n",
       "  <tbody>\n",
       "    <tr>\n",
       "      <th>788</th>\n",
       "      <td>789</td>\n",
       "      <td>4.0</td>\n",
       "      <td>67.0</td>\n",
       "      <td>irregular</td>\n",
       "      <td>ill-defined</td>\n",
       "      <td>low</td>\n",
       "      <td>1</td>\n",
       "    </tr>\n",
       "    <tr>\n",
       "      <th>270</th>\n",
       "      <td>271</td>\n",
       "      <td>5.0</td>\n",
       "      <td>67.0</td>\n",
       "      <td>irregular</td>\n",
       "      <td>ill-defined</td>\n",
       "      <td>low</td>\n",
       "      <td>1</td>\n",
       "    </tr>\n",
       "    <tr>\n",
       "      <th>214</th>\n",
       "      <td>215</td>\n",
       "      <td>5.0</td>\n",
       "      <td>76.0</td>\n",
       "      <td>irregular</td>\n",
       "      <td>spiculated</td>\n",
       "      <td>low</td>\n",
       "      <td>1</td>\n",
       "    </tr>\n",
       "    <tr>\n",
       "      <th>147</th>\n",
       "      <td>148</td>\n",
       "      <td>4.0</td>\n",
       "      <td>63.0</td>\n",
       "      <td>irregular</td>\n",
       "      <td>NaN</td>\n",
       "      <td>low</td>\n",
       "      <td>1</td>\n",
       "    </tr>\n",
       "    <tr>\n",
       "      <th>84</th>\n",
       "      <td>85</td>\n",
       "      <td>5.0</td>\n",
       "      <td>51.0</td>\n",
       "      <td>irregular</td>\n",
       "      <td>NaN</td>\n",
       "      <td>NaN</td>\n",
       "      <td>1</td>\n",
       "    </tr>\n",
       "  </tbody>\n",
       "</table>\n",
       "</div>"
      ],
      "text/plain": [
       "     Index  BI_RADS   Age      Shape       Margin Mass_Density  Severity\n",
       "788    789      4.0  67.0  irregular  ill-defined          low         1\n",
       "270    271      5.0  67.0  irregular  ill-defined          low         1\n",
       "214    215      5.0  76.0  irregular   spiculated          low         1\n",
       "147    148      4.0  63.0  irregular          NaN          low         1\n",
       "84      85      5.0  51.0  irregular          NaN          NaN         1"
      ]
     },
     "execution_count": 3,
     "metadata": {},
     "output_type": "execute_result"
    }
   ],
   "source": [
    "## To overview the data\n",
    "df.sample(5)"
   ]
  },
  {
   "cell_type": "code",
   "execution_count": 4,
   "id": "ba987f81",
   "metadata": {},
   "outputs": [],
   "source": [
    "df.drop_duplicates(inplace=True)"
   ]
  },
  {
   "cell_type": "code",
   "execution_count": 5,
   "id": "a42cdbc6",
   "metadata": {},
   "outputs": [
    {
     "data": {
      "text/html": [
       "<div>\n",
       "<style scoped>\n",
       "    .dataframe tbody tr th:only-of-type {\n",
       "        vertical-align: middle;\n",
       "    }\n",
       "\n",
       "    .dataframe tbody tr th {\n",
       "        vertical-align: top;\n",
       "    }\n",
       "\n",
       "    .dataframe thead th {\n",
       "        text-align: right;\n",
       "    }\n",
       "</style>\n",
       "<table border=\"1\" class=\"dataframe\">\n",
       "  <thead>\n",
       "    <tr style=\"text-align: right;\">\n",
       "      <th></th>\n",
       "      <th>Index</th>\n",
       "      <th>BI_RADS</th>\n",
       "      <th>Age</th>\n",
       "      <th>Shape</th>\n",
       "      <th>Margin</th>\n",
       "      <th>Mass_Density</th>\n",
       "      <th>Severity</th>\n",
       "    </tr>\n",
       "  </thead>\n",
       "  <tbody>\n",
       "    <tr>\n",
       "      <th>0</th>\n",
       "      <td>1</td>\n",
       "      <td>5.0</td>\n",
       "      <td>67.0</td>\n",
       "      <td>lobular</td>\n",
       "      <td>spiculated</td>\n",
       "      <td>low</td>\n",
       "      <td>1</td>\n",
       "    </tr>\n",
       "    <tr>\n",
       "      <th>1</th>\n",
       "      <td>2</td>\n",
       "      <td>4.0</td>\n",
       "      <td>43.0</td>\n",
       "      <td>round</td>\n",
       "      <td>circumscribed</td>\n",
       "      <td>NaN</td>\n",
       "      <td>1</td>\n",
       "    </tr>\n",
       "    <tr>\n",
       "      <th>2</th>\n",
       "      <td>3</td>\n",
       "      <td>5.0</td>\n",
       "      <td>58.0</td>\n",
       "      <td>irregular</td>\n",
       "      <td>spiculated</td>\n",
       "      <td>low</td>\n",
       "      <td>1</td>\n",
       "    </tr>\n",
       "    <tr>\n",
       "      <th>3</th>\n",
       "      <td>4</td>\n",
       "      <td>4.0</td>\n",
       "      <td>28.0</td>\n",
       "      <td>round</td>\n",
       "      <td>circumscribed</td>\n",
       "      <td>low</td>\n",
       "      <td>0</td>\n",
       "    </tr>\n",
       "    <tr>\n",
       "      <th>4</th>\n",
       "      <td>5</td>\n",
       "      <td>5.0</td>\n",
       "      <td>74.0</td>\n",
       "      <td>round</td>\n",
       "      <td>spiculated</td>\n",
       "      <td>NaN</td>\n",
       "      <td>1</td>\n",
       "    </tr>\n",
       "  </tbody>\n",
       "</table>\n",
       "</div>"
      ],
      "text/plain": [
       "   Index  BI_RADS   Age      Shape         Margin Mass_Density  Severity\n",
       "0      1      5.0  67.0    lobular     spiculated          low         1\n",
       "1      2      4.0  43.0      round  circumscribed          NaN         1\n",
       "2      3      5.0  58.0  irregular     spiculated          low         1\n",
       "3      4      4.0  28.0      round  circumscribed          low         0\n",
       "4      5      5.0  74.0      round     spiculated          NaN         1"
      ]
     },
     "execution_count": 5,
     "metadata": {},
     "output_type": "execute_result"
    }
   ],
   "source": [
    "df.reset_index(drop=True,inplace=True)\n",
    "df.head()"
   ]
  },
  {
   "cell_type": "code",
   "execution_count": 6,
   "id": "9d4282b7",
   "metadata": {},
   "outputs": [
    {
     "data": {
      "text/html": [
       "<div>\n",
       "<style scoped>\n",
       "    .dataframe tbody tr th:only-of-type {\n",
       "        vertical-align: middle;\n",
       "    }\n",
       "\n",
       "    .dataframe tbody tr th {\n",
       "        vertical-align: top;\n",
       "    }\n",
       "\n",
       "    .dataframe thead th {\n",
       "        text-align: right;\n",
       "    }\n",
       "</style>\n",
       "<table border=\"1\" class=\"dataframe\">\n",
       "  <thead>\n",
       "    <tr style=\"text-align: right;\">\n",
       "      <th></th>\n",
       "      <th>Index</th>\n",
       "      <th>BI_RADS</th>\n",
       "      <th>Age</th>\n",
       "      <th>Shape</th>\n",
       "      <th>Margin</th>\n",
       "      <th>Mass_Density</th>\n",
       "      <th>Severity</th>\n",
       "    </tr>\n",
       "  </thead>\n",
       "  <tbody>\n",
       "    <tr>\n",
       "      <th>0</th>\n",
       "      <td>1</td>\n",
       "      <td>5</td>\n",
       "      <td>65.0</td>\n",
       "      <td>lobular</td>\n",
       "      <td>ill-defined</td>\n",
       "      <td>low</td>\n",
       "      <td>1</td>\n",
       "    </tr>\n",
       "    <tr>\n",
       "      <th>1</th>\n",
       "      <td>2</td>\n",
       "      <td>5</td>\n",
       "      <td>74.0</td>\n",
       "      <td>lobular</td>\n",
       "      <td>microlobulated</td>\n",
       "      <td>low</td>\n",
       "      <td>1</td>\n",
       "    </tr>\n",
       "    <tr>\n",
       "      <th>2</th>\n",
       "      <td>3</td>\n",
       "      <td>4</td>\n",
       "      <td>NaN</td>\n",
       "      <td>oval</td>\n",
       "      <td>circumscribed</td>\n",
       "      <td>low</td>\n",
       "      <td>0</td>\n",
       "    </tr>\n",
       "    <tr>\n",
       "      <th>3</th>\n",
       "      <td>4</td>\n",
       "      <td>4</td>\n",
       "      <td>57.0</td>\n",
       "      <td>irregular</td>\n",
       "      <td>ill-defined</td>\n",
       "      <td>fat-containing</td>\n",
       "      <td>1</td>\n",
       "    </tr>\n",
       "    <tr>\n",
       "      <th>4</th>\n",
       "      <td>5</td>\n",
       "      <td>4</td>\n",
       "      <td>76.0</td>\n",
       "      <td>lobular</td>\n",
       "      <td>microlobulated</td>\n",
       "      <td>low</td>\n",
       "      <td>0</td>\n",
       "    </tr>\n",
       "  </tbody>\n",
       "</table>\n",
       "</div>"
      ],
      "text/plain": [
       "   Index  BI_RADS   Age      Shape          Margin    Mass_Density  Severity\n",
       "0      1        5  65.0    lobular     ill-defined             low         1\n",
       "1      2        5  74.0    lobular  microlobulated             low         1\n",
       "2      3        4   NaN       oval   circumscribed             low         0\n",
       "3      4        4  57.0  irregular     ill-defined  fat-containing         1\n",
       "4      5        4  76.0    lobular  microlobulated             low         0"
      ]
     },
     "execution_count": 6,
     "metadata": {},
     "output_type": "execute_result"
    }
   ],
   "source": [
    "df1.head()"
   ]
  },
  {
   "cell_type": "code",
   "execution_count": null,
   "id": "2331328e",
   "metadata": {},
   "outputs": [],
   "source": []
  },
  {
   "cell_type": "code",
   "execution_count": 7,
   "id": "b81e12e4",
   "metadata": {},
   "outputs": [],
   "source": [
    "df.drop(\"Index\",axis=1,inplace=True)\n",
    "index=df1[\"Index\"]\n",
    "df1.drop(\"Index\",axis=1,inplace=True)\n"
   ]
  },
  {
   "cell_type": "code",
   "execution_count": 8,
   "id": "c9f01233",
   "metadata": {},
   "outputs": [
    {
     "data": {
      "text/plain": [
       "Index(['BI_RADS', 'Age', 'Shape', 'Margin', 'Mass_Density', 'Severity'], dtype='object')"
      ]
     },
     "execution_count": 8,
     "metadata": {},
     "output_type": "execute_result"
    }
   ],
   "source": [
    "df.keys()\n"
   ]
  },
  {
   "cell_type": "code",
   "execution_count": 9,
   "id": "72b72ae9",
   "metadata": {},
   "outputs": [
    {
     "name": "stdout",
     "output_type": "stream",
     "text": [
      "<class 'pandas.core.frame.DataFrame'>\n",
      "RangeIndex: 811 entries, 0 to 810\n",
      "Data columns (total 6 columns):\n",
      " #   Column        Non-Null Count  Dtype  \n",
      "---  ------        --------------  -----  \n",
      " 0   BI_RADS       809 non-null    float64\n",
      " 1   Age           723 non-null    float64\n",
      " 2   Shape         781 non-null    object \n",
      " 3   Margin        764 non-null    object \n",
      " 4   Mass_Density  735 non-null    object \n",
      " 5   Severity      811 non-null    int64  \n",
      "dtypes: float64(2), int64(1), object(3)\n",
      "memory usage: 38.1+ KB\n"
     ]
    }
   ],
   "source": [
    "df.info()"
   ]
  },
  {
   "cell_type": "code",
   "execution_count": 10,
   "id": "779712de",
   "metadata": {},
   "outputs": [
    {
     "data": {
      "text/html": [
       "<div>\n",
       "<style scoped>\n",
       "    .dataframe tbody tr th:only-of-type {\n",
       "        vertical-align: middle;\n",
       "    }\n",
       "\n",
       "    .dataframe tbody tr th {\n",
       "        vertical-align: top;\n",
       "    }\n",
       "\n",
       "    .dataframe thead th {\n",
       "        text-align: right;\n",
       "    }\n",
       "</style>\n",
       "<table border=\"1\" class=\"dataframe\">\n",
       "  <thead>\n",
       "    <tr style=\"text-align: right;\">\n",
       "      <th></th>\n",
       "      <th>count</th>\n",
       "      <th>mean</th>\n",
       "      <th>std</th>\n",
       "      <th>min</th>\n",
       "      <th>25%</th>\n",
       "      <th>50%</th>\n",
       "      <th>75%</th>\n",
       "      <th>max</th>\n",
       "    </tr>\n",
       "  </thead>\n",
       "  <tbody>\n",
       "    <tr>\n",
       "      <th>BI_RADS</th>\n",
       "      <td>809.0</td>\n",
       "      <td>4.379481</td>\n",
       "      <td>1.914800</td>\n",
       "      <td>0.0</td>\n",
       "      <td>4.0</td>\n",
       "      <td>4.0</td>\n",
       "      <td>5.0</td>\n",
       "      <td>55.0</td>\n",
       "    </tr>\n",
       "    <tr>\n",
       "      <th>Age</th>\n",
       "      <td>723.0</td>\n",
       "      <td>55.887967</td>\n",
       "      <td>16.886616</td>\n",
       "      <td>5.0</td>\n",
       "      <td>45.0</td>\n",
       "      <td>56.0</td>\n",
       "      <td>66.0</td>\n",
       "      <td>130.0</td>\n",
       "    </tr>\n",
       "    <tr>\n",
       "      <th>Severity</th>\n",
       "      <td>811.0</td>\n",
       "      <td>0.459926</td>\n",
       "      <td>0.498699</td>\n",
       "      <td>0.0</td>\n",
       "      <td>0.0</td>\n",
       "      <td>0.0</td>\n",
       "      <td>1.0</td>\n",
       "      <td>1.0</td>\n",
       "    </tr>\n",
       "  </tbody>\n",
       "</table>\n",
       "</div>"
      ],
      "text/plain": [
       "          count       mean        std  min   25%   50%   75%    max\n",
       "BI_RADS   809.0   4.379481   1.914800  0.0   4.0   4.0   5.0   55.0\n",
       "Age       723.0  55.887967  16.886616  5.0  45.0  56.0  66.0  130.0\n",
       "Severity  811.0   0.459926   0.498699  0.0   0.0   0.0   1.0    1.0"
      ]
     },
     "execution_count": 10,
     "metadata": {},
     "output_type": "execute_result"
    }
   ],
   "source": [
    "df.describe().T"
   ]
  },
  {
   "cell_type": "code",
   "execution_count": 11,
   "id": "2c179c03",
   "metadata": {},
   "outputs": [
    {
     "data": {
      "text/plain": [
       "BI_RADS          2\n",
       "Age             88\n",
       "Shape           30\n",
       "Margin          47\n",
       "Mass_Density    76\n",
       "Severity         0\n",
       "dtype: int64"
      ]
     },
     "execution_count": 11,
     "metadata": {},
     "output_type": "execute_result"
    }
   ],
   "source": [
    "## to check the missing value\n",
    "df.isnull().sum()"
   ]
  },
  {
   "cell_type": "code",
   "execution_count": 12,
   "id": "88b603c8",
   "metadata": {},
   "outputs": [],
   "source": [
    "df.rename(columns={\"BI_RADS\":\"Bi_Rads\"},inplace=True)\n",
    "df1.rename(columns={\"BI_RADS\":\"Bi_Rads\"},inplace=True)"
   ]
  },
  {
   "cell_type": "code",
   "execution_count": 13,
   "id": "d3ed6abb",
   "metadata": {},
   "outputs": [
    {
     "data": {
      "image/png": "[encoded data removed]",
      "text/plain": [
       "<Figure size 576x432 with 2 Axes>"
      ]
     },
     "metadata": {
      "needs_background": "light"
     },
     "output_type": "display_data"
    }
   ],
   "source": [
    "##EDA\n",
    "## visualize the missing value\n",
    "plt.figure(figsize=(8,6))\n",
    "sns.heatmap(df.isnull(),cmap=\"winter\")\n",
    "plt.show()"
   ]
  },
  {
   "cell_type": "code",
   "execution_count": 14,
   "id": "4fe72714",
   "metadata": {},
   "outputs": [
    {
     "name": "stdout",
     "output_type": "stream",
     "text": [
      "0    438\n",
      "1    373\n",
      "Name: Severity, dtype: int64\n"
     ]
    },
    {
     "data": {
      "image/png": "[encoded data removed]",
      "text/plain": [
       "<Figure size 432x288 with 1 Axes>"
      ]
     },
     "metadata": {
      "needs_background": "light"
     },
     "output_type": "display_data"
    }
   ],
   "source": [
    "## to check the data is balanced or imbalanced\n",
    "sns.countplot(x=\"Severity\",data=df)\n",
    "print(df[\"Severity\"].value_counts())\n",
    "# Data is well balanced [benign=0 or malignant=1]"
   ]
  },
  {
   "cell_type": "code",
   "execution_count": 15,
   "id": "9b1ca334",
   "metadata": {},
   "outputs": [
    {
     "data": {
      "text/plain": [
       "irregular    340\n",
       "round        192\n",
       "oval         177\n",
       "lobular       72\n",
       "Name: Shape, dtype: int64"
      ]
     },
     "execution_count": 15,
     "metadata": {},
     "output_type": "execute_result"
    },
    {
     "data": {
      "image/png": "[encoded data removed]",
      "text/plain": [
       "<Figure size 432x288 with 1 Axes>"
      ]
     },
     "metadata": {
      "needs_background": "light"
     },
     "output_type": "display_data"
    }
   ],
   "source": [
    "## visualizing the categorical column\n",
    "sns.countplot(x=\"Shape\",data=df)\n",
    "df[\"Shape\"].value_counts()"
   ]
  },
  {
   "cell_type": "code",
   "execution_count": 16,
   "id": "4879b956",
   "metadata": {},
   "outputs": [
    {
     "data": {
      "text/plain": [
       "<AxesSubplot:xlabel='Margin', ylabel='count'>"
      ]
     },
     "execution_count": 16,
     "metadata": {},
     "output_type": "execute_result"
    },
    {
     "data": {
      "image/png": "[encoded data removed]",
      "text/plain": [
       "<Figure size 432x288 with 1 Axes>"
      ]
     },
     "metadata": {
      "needs_background": "light"
     },
     "output_type": "display_data"
    }
   ],
   "source": [
    "sns.countplot(x=\"Margin\",data=df)"
   ]
  },
  {
   "cell_type": "code",
   "execution_count": 17,
   "id": "23170f44",
   "metadata": {},
   "outputs": [
    {
     "data": {
      "text/plain": [
       "<AxesSubplot:xlabel='Mass_Density', ylabel='count'>"
      ]
     },
     "execution_count": 17,
     "metadata": {},
     "output_type": "execute_result"
    },
    {
     "data": {
      "image/png": "[encoded data removed]",
      "text/plain": [
       "<Figure size 432x288 with 1 Axes>"
      ]
     },
     "metadata": {
      "needs_background": "light"
     },
     "output_type": "display_data"
    }
   ],
   "source": [
    "sns.countplot(x=\"Mass_Density\",data=df)"
   ]
  },
  {
   "cell_type": "code",
   "execution_count": 18,
   "id": "9f1817a7",
   "metadata": {},
   "outputs": [
    {
     "data": {
      "text/plain": [
       "<AxesSubplot:xlabel='Mass_Density', ylabel='count'>"
      ]
     },
     "execution_count": 18,
     "metadata": {},
     "output_type": "execute_result"
    },
    {
     "data": {
      "image/png": "[encoded data removed]",
      "text/plain": [
       "<Figure size 432x288 with 1 Axes>"
      ]
     },
     "metadata": {
      "needs_background": "light"
     },
     "output_type": "display_data"
    }
   ],
   "source": [
    "## Categorical variable Mass_Density w.r.t to target column\n",
    "sns.countplot(x=\"Mass_Density\",data=df,hue=\"Severity\")"
   ]
  },
  {
   "cell_type": "code",
   "execution_count": 19,
   "id": "33f223bc",
   "metadata": {},
   "outputs": [
    {
     "data": {
      "text/plain": [
       "<AxesSubplot:xlabel='Margin', ylabel='count'>"
      ]
     },
     "execution_count": 19,
     "metadata": {},
     "output_type": "execute_result"
    },
    {
     "data": {
      "image/png": "[encoded data removed]",
      "text/plain": [
       "<Figure size 432x288 with 1 Axes>"
      ]
     },
     "metadata": {
      "needs_background": "light"
     },
     "output_type": "display_data"
    }
   ],
   "source": [
    "## Categorical variable Margin w.r.t to target column\n",
    "sns.countplot(x=\"Margin\",data=df,hue=\"Severity\")"
   ]
  },
  {
   "cell_type": "code",
   "execution_count": 20,
   "id": "8b07122b",
   "metadata": {},
   "outputs": [
    {
     "data": {
      "text/plain": [
       "<AxesSubplot:xlabel='Shape', ylabel='count'>"
      ]
     },
     "execution_count": 20,
     "metadata": {},
     "output_type": "execute_result"
    },
    {
     "data": {
      "image/png": "[encoded data removed]",
      "text/plain": [
       "<Figure size 432x288 with 1 Axes>"
      ]
     },
     "metadata": {
      "needs_background": "light"
     },
     "output_type": "display_data"
    }
   ],
   "source": [
    "## Categorical variable Shape w.r.t to target column\n",
    "sns.countplot(x=\"Shape\",data=df,hue=\"Severity\")"
   ]
  },
  {
   "cell_type": "code",
   "execution_count": 21,
   "id": "6d196010",
   "metadata": {},
   "outputs": [
    {
     "data": {
      "text/html": [
       "<div>\n",
       "<style scoped>\n",
       "    .dataframe tbody tr th:only-of-type {\n",
       "        vertical-align: middle;\n",
       "    }\n",
       "\n",
       "    .dataframe tbody tr th {\n",
       "        vertical-align: top;\n",
       "    }\n",
       "\n",
       "    .dataframe thead th {\n",
       "        text-align: right;\n",
       "    }\n",
       "</style>\n",
       "<table border=\"1\" class=\"dataframe\">\n",
       "  <thead>\n",
       "    <tr style=\"text-align: right;\">\n",
       "      <th>Severity</th>\n",
       "      <th>0</th>\n",
       "      <th>1</th>\n",
       "    </tr>\n",
       "    <tr>\n",
       "      <th>Shape</th>\n",
       "      <th></th>\n",
       "      <th></th>\n",
       "    </tr>\n",
       "  </thead>\n",
       "  <tbody>\n",
       "    <tr>\n",
       "      <th>irregular</th>\n",
       "      <td>74</td>\n",
       "      <td>266</td>\n",
       "    </tr>\n",
       "    <tr>\n",
       "      <th>lobular</th>\n",
       "      <td>41</td>\n",
       "      <td>31</td>\n",
       "    </tr>\n",
       "    <tr>\n",
       "      <th>oval</th>\n",
       "      <td>146</td>\n",
       "      <td>31</td>\n",
       "    </tr>\n",
       "    <tr>\n",
       "      <th>round</th>\n",
       "      <td>158</td>\n",
       "      <td>34</td>\n",
       "    </tr>\n",
       "  </tbody>\n",
       "</table>\n",
       "</div>"
      ],
      "text/plain": [
       "Severity     0    1\n",
       "Shape              \n",
       "irregular   74  266\n",
       "lobular     41   31\n",
       "oval       146   31\n",
       "round      158   34"
      ]
     },
     "execution_count": 21,
     "metadata": {},
     "output_type": "execute_result"
    }
   ],
   "source": [
    "pd.crosstab(df['Shape'], df['Severity'])"
   ]
  },
  {
   "cell_type": "code",
   "execution_count": 22,
   "id": "8ba4f466",
   "metadata": {},
   "outputs": [
    {
     "data": {
      "text/html": [
       "<div>\n",
       "<style scoped>\n",
       "    .dataframe tbody tr th:only-of-type {\n",
       "        vertical-align: middle;\n",
       "    }\n",
       "\n",
       "    .dataframe tbody tr th {\n",
       "        vertical-align: top;\n",
       "    }\n",
       "\n",
       "    .dataframe thead th {\n",
       "        text-align: right;\n",
       "    }\n",
       "</style>\n",
       "<table border=\"1\" class=\"dataframe\">\n",
       "  <thead>\n",
       "    <tr style=\"text-align: right;\">\n",
       "      <th>Severity</th>\n",
       "      <th>0</th>\n",
       "      <th>1</th>\n",
       "    </tr>\n",
       "    <tr>\n",
       "      <th>Mass_Density</th>\n",
       "      <th></th>\n",
       "      <th></th>\n",
       "    </tr>\n",
       "  </thead>\n",
       "  <tbody>\n",
       "    <tr>\n",
       "      <th>fat-containing</th>\n",
       "      <td>7</td>\n",
       "      <td>3</td>\n",
       "    </tr>\n",
       "    <tr>\n",
       "      <th>high</th>\n",
       "      <td>8</td>\n",
       "      <td>5</td>\n",
       "    </tr>\n",
       "    <tr>\n",
       "      <th>iso</th>\n",
       "      <td>35</td>\n",
       "      <td>14</td>\n",
       "    </tr>\n",
       "    <tr>\n",
       "      <th>low</th>\n",
       "      <td>334</td>\n",
       "      <td>329</td>\n",
       "    </tr>\n",
       "  </tbody>\n",
       "</table>\n",
       "</div>"
      ],
      "text/plain": [
       "Severity          0    1\n",
       "Mass_Density            \n",
       "fat-containing    7    3\n",
       "high              8    5\n",
       "iso              35   14\n",
       "low             334  329"
      ]
     },
     "execution_count": 22,
     "metadata": {},
     "output_type": "execute_result"
    }
   ],
   "source": [
    "pd.crosstab(df['Mass_Density'], df['Severity'])"
   ]
  },
  {
   "cell_type": "code",
   "execution_count": 23,
   "id": "dcd40760",
   "metadata": {},
   "outputs": [
    {
     "data": {
      "text/html": [
       "<div>\n",
       "<style scoped>\n",
       "    .dataframe tbody tr th:only-of-type {\n",
       "        vertical-align: middle;\n",
       "    }\n",
       "\n",
       "    .dataframe tbody tr th {\n",
       "        vertical-align: top;\n",
       "    }\n",
       "\n",
       "    .dataframe thead th {\n",
       "        text-align: right;\n",
       "    }\n",
       "</style>\n",
       "<table border=\"1\" class=\"dataframe\">\n",
       "  <thead>\n",
       "    <tr style=\"text-align: right;\">\n",
       "      <th>Severity</th>\n",
       "      <th>0</th>\n",
       "      <th>1</th>\n",
       "    </tr>\n",
       "    <tr>\n",
       "      <th>Margin</th>\n",
       "      <th></th>\n",
       "      <th></th>\n",
       "    </tr>\n",
       "  </thead>\n",
       "  <tbody>\n",
       "    <tr>\n",
       "      <th>circumscribed</th>\n",
       "      <td>263</td>\n",
       "      <td>35</td>\n",
       "    </tr>\n",
       "    <tr>\n",
       "      <th>ill-defined</th>\n",
       "      <td>78</td>\n",
       "      <td>158</td>\n",
       "    </tr>\n",
       "    <tr>\n",
       "      <th>microlobulated</th>\n",
       "      <td>7</td>\n",
       "      <td>10</td>\n",
       "    </tr>\n",
       "    <tr>\n",
       "      <th>obscured</th>\n",
       "      <td>37</td>\n",
       "      <td>60</td>\n",
       "    </tr>\n",
       "    <tr>\n",
       "      <th>spiculated</th>\n",
       "      <td>17</td>\n",
       "      <td>99</td>\n",
       "    </tr>\n",
       "  </tbody>\n",
       "</table>\n",
       "</div>"
      ],
      "text/plain": [
       "Severity          0    1\n",
       "Margin                  \n",
       "circumscribed   263   35\n",
       "ill-defined      78  158\n",
       "microlobulated    7   10\n",
       "obscured         37   60\n",
       "spiculated       17   99"
      ]
     },
     "execution_count": 23,
     "metadata": {},
     "output_type": "execute_result"
    }
   ],
   "source": [
    "pd.crosstab(df['Margin'], df['Severity'])"
   ]
  },
  {
   "cell_type": "code",
   "execution_count": 24,
   "id": "f957ff68",
   "metadata": {},
   "outputs": [
    {
     "data": {
      "image/png": "[encoded data removed]",
      "text/plain": [
       "<Figure size 1080x1440 with 4 Axes>"
      ]
     },
     "metadata": {},
     "output_type": "display_data"
    }
   ],
   "source": [
    "plt.figure(figsize=(15,20))\n",
    "plt.subplot(1,4,1)\n",
    "df[df.Shape==\"lobular\"].Severity.value_counts().plot(kind=\"pie\",autopct=\"%2f\")\n",
    "plt.subplot(1,4,2)\n",
    "df[df.Shape==\"round\"].Severity.value_counts().plot(kind=\"pie\",autopct=\"%2f\")\n",
    "plt.subplot(1,4,3)\n",
    "df[df.Shape==\"irregular\"].Severity.value_counts().plot(kind=\"pie\",autopct=\"%2f\")\n",
    "plt.subplot(1,4,4)\n",
    "df[df.Shape==\"oval\"].Severity.value_counts().plot(kind=\"pie\",autopct=\"%2f\")\n",
    "plt.show()\n"
   ]
  },
  {
   "cell_type": "code",
   "execution_count": null,
   "id": "763546ed",
   "metadata": {},
   "outputs": [],
   "source": []
  },
  {
   "cell_type": "code",
   "execution_count": 25,
   "id": "f6362f90",
   "metadata": {},
   "outputs": [
    {
     "data": {
      "image/png": "[encoded data removed]",
      "text/plain": [
       "<Figure size 1080x1440 with 5 Axes>"
      ]
     },
     "metadata": {},
     "output_type": "display_data"
    }
   ],
   "source": [
    "plt.figure(figsize=(15,20))\n",
    "plt.subplot(1,5,1)\n",
    "df[df.Margin==\"circumscribed\"].Severity.value_counts().plot(kind=\"pie\",autopct=\"%2f\")\n",
    "plt.subplot(1,5,2)\n",
    "df[df.Margin==\"ill-defined\"].Severity.value_counts().plot(kind=\"pie\",autopct=\"%2f\")\n",
    "plt.subplot(1,5,3)\n",
    "df[df.Margin==\"spiculated\"].Severity.value_counts().plot(kind=\"pie\",autopct=\"%2f\")\n",
    "plt.subplot(1,5,4)\n",
    "df[df.Margin==\"obscured\"].Severity.value_counts().plot(kind=\"pie\",autopct=\"%2f\")\n",
    "plt.subplot(1,5,5)\n",
    "df[df.Margin==\"microlobulated\"].Severity.value_counts().plot(kind=\"pie\",autopct=\"%2f\")\n",
    "plt.show()\n",
    "\n",
    "## Note:"
   ]
  },
  {
   "cell_type": "code",
   "execution_count": null,
   "id": "a05b636e",
   "metadata": {},
   "outputs": [],
   "source": []
  },
  {
   "cell_type": "code",
   "execution_count": 26,
   "id": "abab76e3",
   "metadata": {},
   "outputs": [
    {
     "data": {
      "image/png": "[encoded data removed]",
      "text/plain": [
       "<Figure size 1080x1440 with 4 Axes>"
      ]
     },
     "metadata": {},
     "output_type": "display_data"
    }
   ],
   "source": [
    "plt.figure(figsize=(15,20))\n",
    "plt.subplot(1,4,1)\n",
    "df[df.Mass_Density==\"low\"].Severity.value_counts().plot(kind=\"pie\",autopct=\"%2f\")\n",
    "plt.subplot(1,4,2)\n",
    "df[df.Mass_Density==\"iso\"].Severity.value_counts().plot(kind=\"pie\",autopct=\"%2f\")\n",
    "plt.subplot(1,4,3)\n",
    "df[df.Mass_Density==\"high\"].Severity.value_counts().plot(kind=\"pie\",autopct=\"%2f\")\n",
    "plt.subplot(1,4,4)\n",
    "df[df.Mass_Density==\"fat-containing\"].Severity.value_counts().plot(kind=\"pie\",autopct=\"%2f\")\n",
    "plt.show()"
   ]
  },
  {
   "cell_type": "code",
   "execution_count": 27,
   "id": "afab2147",
   "metadata": {},
   "outputs": [
    {
     "data": {
      "text/plain": [
       "<AxesSubplot:>"
      ]
     },
     "execution_count": 27,
     "metadata": {},
     "output_type": "execute_result"
    },
    {
     "data": {
      "image/png": "[encoded data removed]",
      "text/plain": [
       "<Figure size 432x288 with 2 Axes>"
      ]
     },
     "metadata": {
      "needs_background": "light"
     },
     "output_type": "display_data"
    }
   ],
   "source": [
    "sns.heatmap(df.corr(),annot=True)"
   ]
  },
  {
   "cell_type": "code",
   "execution_count": 28,
   "id": "b6ec0169",
   "metadata": {},
   "outputs": [],
   "source": [
    "## Create bins to visualize the data.\n",
    "df[\"age_group\"]=pd.cut(x=df[\"Age\"],bins=[0,20,40,60,80,100,120,140])"
   ]
  },
  {
   "cell_type": "code",
   "execution_count": 29,
   "id": "6664bc73",
   "metadata": {},
   "outputs": [
    {
     "data": {
      "text/plain": [
       "'           Total  benign  maligant\\n(40, 60]      397     241    156\\n(60, 80]      305     100    205\\n(20, 40]      121     105    16\\n(80, 100]     14      1      13\\n(0, 20]       12      11     1\\n(120, 140]    12      2      10\\n(100, 120]    0       0      0\\n\\n'"
      ]
     },
     "execution_count": 29,
     "metadata": {},
     "output_type": "execute_result"
    },
    {
     "data": {
      "image/png": "[encoded data removed]",
      "text/plain": [
       "<Figure size 432x288 with 1 Axes>"
      ]
     },
     "metadata": {
      "needs_background": "light"
     },
     "output_type": "display_data"
    }
   ],
   "source": [
    "sns.countplot(x=\"age_group\",data=df,hue=\"Severity\")\n",
    "\n",
    "\"\"\"           Total  benign  maligant\n",
    "(40, 60]      397     241    156\n",
    "(60, 80]      305     100    205\n",
    "(20, 40]      121     105    16\n",
    "(80, 100]     14      1      13\n",
    "(0, 20]       12      11     1\n",
    "(120, 140]    12      2      10\n",
    "(100, 120]    0       0      0\n",
    "\n",
    "\"\"\" \n"
   ]
  },
  {
   "cell_type": "code",
   "execution_count": null,
   "id": "d67c6663",
   "metadata": {},
   "outputs": [],
   "source": []
  },
  {
   "cell_type": "code",
   "execution_count": 30,
   "id": "cc3bd434",
   "metadata": {},
   "outputs": [
    {
     "data": {
      "text/html": [
       "<div>\n",
       "<style scoped>\n",
       "    .dataframe tbody tr th:only-of-type {\n",
       "        vertical-align: middle;\n",
       "    }\n",
       "\n",
       "    .dataframe tbody tr th {\n",
       "        vertical-align: top;\n",
       "    }\n",
       "\n",
       "    .dataframe thead th {\n",
       "        text-align: right;\n",
       "    }\n",
       "</style>\n",
       "<table border=\"1\" class=\"dataframe\">\n",
       "  <thead>\n",
       "    <tr style=\"text-align: right;\">\n",
       "      <th>Severity</th>\n",
       "      <th>0</th>\n",
       "      <th>1</th>\n",
       "    </tr>\n",
       "    <tr>\n",
       "      <th>age_group</th>\n",
       "      <th></th>\n",
       "      <th></th>\n",
       "    </tr>\n",
       "  </thead>\n",
       "  <tbody>\n",
       "    <tr>\n",
       "      <th>(0, 20]</th>\n",
       "      <td>8</td>\n",
       "      <td>1</td>\n",
       "    </tr>\n",
       "    <tr>\n",
       "      <th>(20, 40]</th>\n",
       "      <td>92</td>\n",
       "      <td>13</td>\n",
       "    </tr>\n",
       "    <tr>\n",
       "      <th>(40, 60]</th>\n",
       "      <td>201</td>\n",
       "      <td>129</td>\n",
       "    </tr>\n",
       "    <tr>\n",
       "      <th>(60, 80]</th>\n",
       "      <td>84</td>\n",
       "      <td>172</td>\n",
       "    </tr>\n",
       "    <tr>\n",
       "      <th>(80, 100]</th>\n",
       "      <td>1</td>\n",
       "      <td>13</td>\n",
       "    </tr>\n",
       "    <tr>\n",
       "      <th>(120, 140]</th>\n",
       "      <td>2</td>\n",
       "      <td>7</td>\n",
       "    </tr>\n",
       "  </tbody>\n",
       "</table>\n",
       "</div>"
      ],
      "text/plain": [
       "Severity      0    1\n",
       "age_group           \n",
       "(0, 20]       8    1\n",
       "(20, 40]     92   13\n",
       "(40, 60]    201  129\n",
       "(60, 80]     84  172\n",
       "(80, 100]     1   13\n",
       "(120, 140]    2    7"
      ]
     },
     "execution_count": 30,
     "metadata": {},
     "output_type": "execute_result"
    }
   ],
   "source": [
    "pd.crosstab(df['age_group'], df['Severity'])"
   ]
  },
  {
   "cell_type": "code",
   "execution_count": 31,
   "id": "e792129d",
   "metadata": {},
   "outputs": [
    {
     "data": {
      "text/plain": [
       "(40, 60]      330\n",
       "(60, 80]      256\n",
       "(20, 40]      105\n",
       "(80, 100]      14\n",
       "(0, 20]         9\n",
       "(120, 140]      9\n",
       "(100, 120]      0\n",
       "Name: age_group, dtype: int64"
      ]
     },
     "execution_count": 31,
     "metadata": {},
     "output_type": "execute_result"
    }
   ],
   "source": [
    "df[\"age_group\"].value_counts()"
   ]
  },
  {
   "cell_type": "code",
   "execution_count": null,
   "id": "2fafca00",
   "metadata": {},
   "outputs": [],
   "source": []
  },
  {
   "cell_type": "code",
   "execution_count": 32,
   "id": "715c8b54",
   "metadata": {},
   "outputs": [
    {
     "data": {
      "text/plain": [
       "<seaborn.axisgrid.PairGrid at 0x1d476d90>"
      ]
     },
     "execution_count": 32,
     "metadata": {},
     "output_type": "execute_result"
    },
    {
     "data": {
      "image/png": "[encoded data removed]",
      "text/plain": [
       "<Figure size 409.125x360 with 6 Axes>"
      ]
     },
     "metadata": {
      "needs_background": "light"
     },
     "output_type": "display_data"
    }
   ],
   "source": [
    "sns.pairplot(df,hue=\"Severity\")\n",
    "## from the below graph we oberved that \n",
    "# 1) age group of people having more severity maligant in between 60-100 is more as compare to other age group\n",
    "# 2) if the bi_rads is higher  than more likly to be severity is maligant."
   ]
  },
  {
   "cell_type": "code",
   "execution_count": 33,
   "id": "05f946d2",
   "metadata": {},
   "outputs": [
    {
     "data": {
      "text/plain": [
       "<AxesSubplot:xlabel='Age', ylabel='Count'>"
      ]
     },
     "execution_count": 33,
     "metadata": {},
     "output_type": "execute_result"
    },
    {
     "data": {
      "image/png": "[encoded data removed]",
      "text/plain": [
       "<Figure size 432x288 with 1 Axes>"
      ]
     },
     "metadata": {
      "needs_background": "light"
     },
     "output_type": "display_data"
    }
   ],
   "source": [
    "sns.histplot(x=\"Age\",bins=40,hue=\"Severity\",data=df)"
   ]
  },
  {
   "cell_type": "code",
   "execution_count": 34,
   "id": "ab3a4c46",
   "metadata": {},
   "outputs": [
    {
     "data": {
      "text/plain": [
       "<AxesSubplot:xlabel='Bi_Rads', ylabel='Count'>"
      ]
     },
     "execution_count": 34,
     "metadata": {},
     "output_type": "execute_result"
    },
    {
     "data": {
      "image/png": "[encoded data removed]",
      "text/plain": [
       "<Figure size 432x288 with 1 Axes>"
      ]
     },
     "metadata": {
      "needs_background": "light"
     },
     "output_type": "display_data"
    }
   ],
   "source": [
    "sns.histplot(x=\"Bi_Rads\",bins=40,hue=\"Severity\",data=df)"
   ]
  },
  {
   "cell_type": "code",
   "execution_count": 35,
   "id": "badfcb51",
   "metadata": {},
   "outputs": [
    {
     "data": {
      "text/plain": [
       "<AxesSubplot:>"
      ]
     },
     "execution_count": 35,
     "metadata": {},
     "output_type": "execute_result"
    },
    {
     "data": {
      "image/png": "[encoded data removed]",
      "text/plain": [
       "<Figure size 432x288 with 1 Axes>"
      ]
     },
     "metadata": {
      "needs_background": "light"
     },
     "output_type": "display_data"
    }
   ],
   "source": [
    "## to check the outlier\n",
    "df.boxplot()"
   ]
  },
  {
   "cell_type": "code",
   "execution_count": 36,
   "id": "67d961e3",
   "metadata": {},
   "outputs": [
    {
     "data": {
      "image/png": "[encoded data removed]",
      "text/plain": [
       "<Figure size 432x288 with 1 Axes>"
      ]
     },
     "metadata": {
      "needs_background": "light"
     },
     "output_type": "display_data"
    },
    {
     "data": {
      "image/png": "[encoded data removed]",
      "text/plain": [
       "<Figure size 432x288 with 1 Axes>"
      ]
     },
     "metadata": {
      "needs_background": "light"
     },
     "output_type": "display_data"
    },
    {
     "data": {
      "text/plain": [
       "(0.6345145802814919, 22.846786785496114)"
      ]
     },
     "execution_count": 36,
     "metadata": {},
     "output_type": "execute_result"
    }
   ],
   "source": [
    "## 6) Determine whether the data is normally distributed visually and statistically.\n",
    "## to check the distribution\n",
    "for i in df.keys():\n",
    "    if df[i].dtype==\"float64\":\n",
    "        sns.distplot(df[i],hist=False,)\n",
    "        plt.show()\n",
    "\n",
    "df[\"Age\"].skew(),df[\"Bi_Rads\"].skew()"
   ]
  },
  {
   "cell_type": "code",
   "execution_count": 37,
   "id": "8795d209",
   "metadata": {},
   "outputs": [
    {
     "data": {
      "text/plain": [
       "7"
      ]
     },
     "execution_count": 37,
     "metadata": {},
     "output_type": "execute_result"
    }
   ],
   "source": [
    "df[\"Bi_Rads\"].nunique()"
   ]
  },
  {
   "cell_type": "code",
   "execution_count": 38,
   "id": "b829d31d",
   "metadata": {},
   "outputs": [
    {
     "name": "stdout",
     "output_type": "stream",
     "text": [
      "Bi_Rads [ 5.  4.  3. nan  2.]\n",
      "Age [67. 43. 58. 28. 74.]\n",
      "Shape ['lobular' 'round' 'irregular' nan 'oval']\n",
      "Margin ['spiculated' 'circumscribed' nan 'ill-defined' 'obscured']\n",
      "Mass_Density ['low' nan 'high' 'iso' 'fat-containing']\n",
      "Severity [1 0]\n",
      "age_group [(60.0, 80.0], (40.0, 60.0], (20.0, 40.0], NaN, (80.0, 100.0]]\n",
      "Categories (7, interval[int64, right]): [(0, 20] < (20, 40] < (40, 60] < (60, 80] < (80, 100] < (100, 120] < (120, 140]]\n"
     ]
    }
   ],
   "source": [
    "## to check the unique value\n",
    "for i in df.keys():\n",
    "    if df[i].size>50:\n",
    "        print(i,df[i].unique()[:5])"
   ]
  },
  {
   "cell_type": "markdown",
   "id": "b3f5e321",
   "metadata": {},
   "source": [
    "## Comment on EDA of variables in data.\n",
    "## EDA observation\n",
    "### categorical column & numerical column\n",
    "\n",
    "## Uni-variate analysis \n",
    "- count of irregular is more as compare to other Shape.\n",
    "- count of circumscribed is more as compare to other Margin\n",
    "- count of low is higher as compare to  other Mass_Density\n",
    "- count of age_group is involved more people age in between 40-80  years.\n",
    "\n",
    "## Bi-variate analysis\n",
    "-  if Shape irrgeular having more likly to severity is maligant, out of 100% there is  78% are maligant and so on.\n",
    "-  if the Margin spiculated having more likly to severity is maligant,out of 100% there is 85% are maligant and so on\n",
    "-  if the Mass_Density is low having more likly to be Severity is maligant out of 100% there is 49% are maligant and so on\n",
    "-  people having  age group of 60-80 and 80-100 having more likly to be Severity is maligant.\n",
    "-  Numercal column are not correlated to each other\n",
    "-  if Bi_Rads asssetemnt more than 5 having more likly to be Severity is maligant.\n"
   ]
  },
  {
   "cell_type": "code",
   "execution_count": null,
   "id": "adcf3d4c",
   "metadata": {},
   "outputs": [],
   "source": []
  },
  {
   "cell_type": "code",
   "execution_count": null,
   "id": "ed4682dc",
   "metadata": {},
   "outputs": [],
   "source": []
  },
  {
   "cell_type": "code",
   "execution_count": 39,
   "id": "20002fb6",
   "metadata": {},
   "outputs": [],
   "source": [
    "from sklearn.model_selection import train_test_split\n",
    "from sklearn.metrics import accuracy_score,confusion_matrix,classification_report,precision_score,recall_score,f1_score\n",
    "from sklearn.model_selection import GridSearchCV,cross_val_score"
   ]
  },
  {
   "cell_type": "code",
   "execution_count": null,
   "id": "0852b17e",
   "metadata": {},
   "outputs": [],
   "source": []
  },
  {
   "cell_type": "code",
   "execution_count": 40,
   "id": "b0d51c90",
   "metadata": {},
   "outputs": [],
   "source": [
    "# X_train.shape,X_test.shape,y_train.shape,y_test.shape"
   ]
  },
  {
   "cell_type": "code",
   "execution_count": 41,
   "id": "d02e79e3",
   "metadata": {},
   "outputs": [],
   "source": [
    "##outlier removal and capping\n",
    "##IQR method\n",
    "def quantile(data,col):\n",
    "    q75,q25=data[col].quantile(0.75),data[col].quantile(0.25)\n",
    "    IQR=q75-q25\n",
    "    upper_limit=q75+1.5*IQR\n",
    "    lower_limit=q25-1.5*IQR\n",
    "    return upper_limit,lower_limit"
   ]
  },
  {
   "cell_type": "code",
   "execution_count": 42,
   "id": "be1f34af",
   "metadata": {},
   "outputs": [],
   "source": [
    "def outlier_capping(upper_limit,lower_limit,col,data):\n",
    "    data.loc[data[col]>upper_limit,\"Age\"]=upper_limit\n",
    "    data.loc[data[col]<lower_limit,\"Age\"]=lower_limit\n",
    "    return \"done\""
   ]
  },
  {
   "cell_type": "code",
   "execution_count": 43,
   "id": "5dc50087",
   "metadata": {},
   "outputs": [
    {
     "data": {
      "text/plain": [
       "(97.5, 13.5)"
      ]
     },
     "execution_count": 43,
     "metadata": {},
     "output_type": "execute_result"
    }
   ],
   "source": [
    "#for train data\n",
    "quantile(df,\"Age\")"
   ]
  },
  {
   "cell_type": "code",
   "execution_count": 44,
   "id": "0d3eccb1",
   "metadata": {},
   "outputs": [
    {
     "data": {
      "text/plain": [
       "'done'"
      ]
     },
     "execution_count": 44,
     "metadata": {},
     "output_type": "execute_result"
    }
   ],
   "source": [
    "outlier_capping(97.5,13.5,\"Age\",df)"
   ]
  },
  {
   "cell_type": "code",
   "execution_count": 45,
   "id": "45055b33",
   "metadata": {},
   "outputs": [
    {
     "data": {
      "text/plain": [
       "(6.5, 2.5)"
      ]
     },
     "execution_count": 45,
     "metadata": {},
     "output_type": "execute_result"
    }
   ],
   "source": [
    "quantile(df,\"Bi_Rads\")"
   ]
  },
  {
   "cell_type": "code",
   "execution_count": 46,
   "id": "c532a8c3",
   "metadata": {},
   "outputs": [
    {
     "data": {
      "text/plain": [
       "'done'"
      ]
     },
     "execution_count": 46,
     "metadata": {},
     "output_type": "execute_result"
    }
   ],
   "source": [
    "outlier_capping(6.5,2.5,\"Bi_Rads\",df)"
   ]
  },
  {
   "cell_type": "code",
   "execution_count": 47,
   "id": "48e8a396",
   "metadata": {},
   "outputs": [
    {
     "data": {
      "text/plain": [
       "(95.0, 15.0)"
      ]
     },
     "execution_count": 47,
     "metadata": {},
     "output_type": "execute_result"
    }
   ],
   "source": [
    "#for test data\n",
    "#for Age col\n",
    "quantile(df1,\"Age\")\n"
   ]
  },
  {
   "cell_type": "code",
   "execution_count": 48,
   "id": "63f4ea19",
   "metadata": {},
   "outputs": [
    {
     "data": {
      "text/plain": [
       "'done'"
      ]
     },
     "execution_count": 48,
     "metadata": {},
     "output_type": "execute_result"
    }
   ],
   "source": [
    "outlier_capping(95,15,\"Age\",df1)"
   ]
  },
  {
   "cell_type": "code",
   "execution_count": 49,
   "id": "4f90f98d",
   "metadata": {},
   "outputs": [
    {
     "data": {
      "text/plain": [
       "(4.0, 4.0)"
      ]
     },
     "execution_count": 49,
     "metadata": {},
     "output_type": "execute_result"
    }
   ],
   "source": [
    "# # for Bi_Rads\n",
    "quantile(df1,\"Bi_Rads\")"
   ]
  },
  {
   "cell_type": "code",
   "execution_count": 50,
   "id": "39f868c1",
   "metadata": {},
   "outputs": [
    {
     "data": {
      "text/plain": [
       "'done'"
      ]
     },
     "execution_count": 50,
     "metadata": {},
     "output_type": "execute_result"
    }
   ],
   "source": [
    "outlier_capping(4,4,\"Bi_Rads\",df1)"
   ]
  },
  {
   "cell_type": "code",
   "execution_count": 51,
   "id": "e1b2ff80",
   "metadata": {},
   "outputs": [],
   "source": [
    "#### To fill the missing value\n",
    "from sklearn.impute import SimpleImputer\n",
    "from sklearn.impute import KNNImputer\n"
   ]
  },
  {
   "cell_type": "code",
   "execution_count": 52,
   "id": "12164998",
   "metadata": {},
   "outputs": [
    {
     "data": {
      "text/plain": [
       "Bi_Rads          2\n",
       "Age             87\n",
       "Shape           30\n",
       "Margin          47\n",
       "Mass_Density    76\n",
       "Severity         0\n",
       "age_group       88\n",
       "dtype: int64"
      ]
     },
     "execution_count": 52,
     "metadata": {},
     "output_type": "execute_result"
    }
   ],
   "source": [
    "df.isnull().sum()"
   ]
  },
  {
   "cell_type": "code",
   "execution_count": 53,
   "id": "a540bd07",
   "metadata": {},
   "outputs": [
    {
     "data": {
      "text/plain": [
       "Bi_Rads         0\n",
       "Age             9\n",
       "Shape           1\n",
       "Margin          1\n",
       "Mass_Density    0\n",
       "Severity        0\n",
       "dtype: int64"
      ]
     },
     "execution_count": 53,
     "metadata": {},
     "output_type": "execute_result"
    }
   ],
   "source": [
    "df1.isnull().sum()"
   ]
  },
  {
   "cell_type": "code",
   "execution_count": 54,
   "id": "a5805af8",
   "metadata": {},
   "outputs": [],
   "source": [
    "\n",
    "knn=KNNImputer(n_neighbors=3,weights=\"distance\")\n",
    "Simple_Shape=SimpleImputer(strategy=\"most_frequent\")\n",
    "Simple_Margin=SimpleImputer(strategy=\"most_frequent\")\n",
    "Simple_Mass_Density=SimpleImputer(strategy=\"most_frequent\")\n",
    "Simple_Bi_Rads=SimpleImputer(strategy=\"median\")"
   ]
  },
  {
   "cell_type": "code",
   "execution_count": 55,
   "id": "35578ac0",
   "metadata": {},
   "outputs": [],
   "source": [
    "df[\"Shape\"]=Simple_Shape.fit_transform(df[[\"Shape\"]])\n",
    "df[\"Margin\"]=Simple_Margin.fit_transform(df[[\"Margin\"]])\n",
    "df[\"Mass_Density\"]=Simple_Mass_Density.fit_transform(df[[\"Mass_Density\"]])\n",
    "df[\"Bi_Rads\"]=Simple_Bi_Rads.fit_transform(df[[\"Bi_Rads\"]])\n",
    "df[\"Age\"]=knn.fit_transform(df[[\"Age\"]])"
   ]
  },
  {
   "cell_type": "code",
   "execution_count": 56,
   "id": "2f913e64",
   "metadata": {},
   "outputs": [],
   "source": [
    "df1[\"Shape\"]=Simple_Shape.transform(df1[[\"Shape\"]])\n",
    "df1[\"Margin\"]=Simple_Margin.transform(df1[[\"Margin\"]])\n",
    "df1[\"Mass_Density\"]=Simple_Mass_Density.transform(df1[[\"Mass_Density\"]])\n",
    "df1[\"Bi_Rads\"]=Simple_Bi_Rads.transform(df1[[\"Bi_Rads\"]])\n",
    "df1[\"Age\"]=knn.transform(df1[[\"Age\"]])"
   ]
  },
  {
   "cell_type": "code",
   "execution_count": 57,
   "id": "7ed6a04a",
   "metadata": {},
   "outputs": [
    {
     "data": {
      "text/plain": [
       "(Bi_Rads          0\n",
       " Age              0\n",
       " Shape            0\n",
       " Margin           0\n",
       " Mass_Density     0\n",
       " Severity         0\n",
       " age_group       88\n",
       " dtype: int64,\n",
       " Bi_Rads         0\n",
       " Age             0\n",
       " Shape           0\n",
       " Margin          0\n",
       " Mass_Density    0\n",
       " Severity        0\n",
       " dtype: int64)"
      ]
     },
     "execution_count": 57,
     "metadata": {},
     "output_type": "execute_result"
    }
   ],
   "source": [
    "df.isnull().sum(),df1.isnull().sum()"
   ]
  },
  {
   "cell_type": "code",
   "execution_count": 58,
   "id": "375ea69e",
   "metadata": {},
   "outputs": [],
   "source": [
    "## encoding for ordinal categories\n",
    "df[\"Mass_Density\"].replace({\"high\":1,\"iso\":2,\"low\":3,\"fat-containing\":4},inplace=True)\n",
    "df1[\"Mass_Density\"].replace({\"high\":1,\"iso\":2,\"low\":3,\"fat-containing\":4},inplace=True)"
   ]
  },
  {
   "cell_type": "code",
   "execution_count": 59,
   "id": "fa9da212",
   "metadata": {},
   "outputs": [],
   "source": [
    "## for nominal categories\n",
    "df=pd.get_dummies(data=df,columns=[\"Shape\",\"Margin\"],drop_first=True)\n",
    "df1=pd.get_dummies(data=df1,columns=[\"Shape\",\"Margin\"],drop_first=True)"
   ]
  },
  {
   "cell_type": "code",
   "execution_count": 60,
   "id": "ef54799c",
   "metadata": {},
   "outputs": [
    {
     "data": {
      "text/plain": [
       "((811, 10), (811,))"
      ]
     },
     "execution_count": 60,
     "metadata": {},
     "output_type": "execute_result"
    }
   ],
   "source": [
    "X=df.drop([\"Severity\",\"age_group\"],axis=1)\n",
    "y=df[\"Severity\"]\n",
    "X.shape,y.shape"
   ]
  },
  {
   "cell_type": "code",
   "execution_count": 61,
   "id": "3d992db6",
   "metadata": {},
   "outputs": [
    {
     "data": {
      "text/plain": [
       "Bi_Rads                  0\n",
       "Age                      0\n",
       "Mass_Density             0\n",
       "Shape_lobular            0\n",
       "Shape_oval               0\n",
       "Shape_round              0\n",
       "Margin_ill-defined       0\n",
       "Margin_microlobulated    0\n",
       "Margin_obscured          0\n",
       "Margin_spiculated        0\n",
       "dtype: int64"
      ]
     },
     "execution_count": 61,
     "metadata": {},
     "output_type": "execute_result"
    }
   ],
   "source": [
    "X.isnull().sum()"
   ]
  },
  {
   "cell_type": "code",
   "execution_count": 62,
   "id": "10ad5021",
   "metadata": {},
   "outputs": [],
   "source": [
    "from sklearn.linear_model import LogisticRegression\n",
    "from sklearn.preprocessing import StandardScaler\n",
    "std=StandardScaler()\n",
    "log_claf=LogisticRegression()"
   ]
  },
  {
   "cell_type": "code",
   "execution_count": 63,
   "id": "854ceb3e",
   "metadata": {},
   "outputs": [],
   "source": [
    "# for i in range(1,50):\n",
    "#     X_train,X_test,y_train,y_test=train_test_split(X,y,test_size=.20,random_state=i,stratify=y)\n",
    "#     X_train_scale=std.fit_transform(X_train)\n",
    "#     X_test_scale=std.transform(X_test)\n",
    "#     log_claf.fit(X_train_scale,y_train)\n",
    "#     pred=log_claf.predict(X_test_scale)\n",
    "#     accuracy=accuracy_score(y_test,pred)\n",
    "#     print(\"train acc and test acc is\",i,log_claf.score(X_train_scale,y_train),accuracy) \n",
    "    \n",
    "    "
   ]
  },
  {
   "cell_type": "code",
   "execution_count": 64,
   "id": "802fa259",
   "metadata": {},
   "outputs": [],
   "source": [
    "X_train,X_test,y_train,y_test=train_test_split(X,y,test_size=.20,random_state=29,stratify=y)\n",
    "X_train_scale=std.fit_transform(X_train)\n",
    "X_test_scale=std.transform(X_test)"
   ]
  },
  {
   "cell_type": "code",
   "execution_count": 65,
   "id": "d15e5b62",
   "metadata": {},
   "outputs": [
    {
     "data": {
      "text/plain": [
       "array([0.81018519, 0.82407407, 0.81481481])"
      ]
     },
     "execution_count": 65,
     "metadata": {},
     "output_type": "execute_result"
    }
   ],
   "source": [
    "cross_val_score(log_claf,X_train_scale,y_train,scoring=\"accuracy\",cv=3)"
   ]
  },
  {
   "cell_type": "code",
   "execution_count": 66,
   "id": "1ebdc6e8",
   "metadata": {},
   "outputs": [
    {
     "data": {
      "text/plain": [
       "0.8179012345679012"
      ]
     },
     "execution_count": 66,
     "metadata": {},
     "output_type": "execute_result"
    }
   ],
   "source": [
    "log_claf=LogisticRegression()\n",
    "log_claf.fit(X_train_scale,y_train)\n",
    "log_claf.score(X_train_scale,y_train)"
   ]
  },
  {
   "cell_type": "code",
   "execution_count": 67,
   "id": "a2420ec6",
   "metadata": {},
   "outputs": [
    {
     "data": {
      "text/plain": [
       "0.8650306748466258"
      ]
     },
     "execution_count": 67,
     "metadata": {},
     "output_type": "execute_result"
    }
   ],
   "source": [
    "pred=log_claf.predict(X_test_scale)\n",
    "accuracy_score(y_test,pred)"
   ]
  },
  {
   "cell_type": "code",
   "execution_count": 68,
   "id": "23f39e6d",
   "metadata": {},
   "outputs": [
    {
     "name": "stdout",
     "output_type": "stream",
     "text": [
      "Fitting 3 folds for each of 20 candidates, totalling 60 fits\n",
      "[CV 1/3] END .........C=0.001, solver=newton-cg;, score=0.722 total time=   0.0s\n",
      "[CV 2/3] END .........C=0.001, solver=newton-cg;, score=0.657 total time=   0.0s\n",
      "[CV 3/3] END .........C=0.001, solver=newton-cg;, score=0.676 total time=   0.0s\n",
      "[CV 1/3] END .............C=0.001, solver=lbfgs;, score=0.722 total time=   0.0s\n",
      "[CV 2/3] END .............C=0.001, solver=lbfgs;, score=0.657 total time=   0.0s\n",
      "[CV 3/3] END .............C=0.001, solver=lbfgs;, score=0.676 total time=   0.0s\n",
      "[CV 1/3] END .........C=0.001, solver=liblinear;, score=0.769 total time=   0.0s\n",
      "[CV 2/3] END .........C=0.001, solver=liblinear;, score=0.792 total time=   0.0s\n",
      "[CV 3/3] END .........C=0.001, solver=liblinear;, score=0.787 total time=   0.0s\n",
      "[CV 1/3] END ...............C=0.001, solver=sag;, score=0.722 total time=   0.0s\n",
      "[CV 2/3] END ...............C=0.001, solver=sag;, score=0.657 total time=   0.0s\n",
      "[CV 3/3] END ...............C=0.001, solver=sag;, score=0.676 total time=   0.0s\n",
      "[CV 1/3] END ..............C=0.001, solver=saga;, score=0.722 total time=   0.0s\n",
      "[CV 2/3] END ..............C=0.001, solver=saga;, score=0.662 total time=   0.0s\n",
      "[CV 3/3] END ..............C=0.001, solver=saga;, score=0.681 total time=   0.0s\n",
      "[CV 1/3] END ..........C=0.01, solver=newton-cg;, score=0.782 total time=   0.0s\n",
      "[CV 2/3] END ..........C=0.01, solver=newton-cg;, score=0.801 total time=   0.0s\n",
      "[CV 3/3] END ..........C=0.01, solver=newton-cg;, score=0.787 total time=   0.0s\n",
      "[CV 1/3] END ..............C=0.01, solver=lbfgs;, score=0.782 total time=   0.0s\n",
      "[CV 2/3] END ..............C=0.01, solver=lbfgs;, score=0.801 total time=   0.0s\n",
      "[CV 3/3] END ..............C=0.01, solver=lbfgs;, score=0.787 total time=   0.0s\n",
      "[CV 1/3] END ..........C=0.01, solver=liblinear;, score=0.764 total time=   0.0s\n",
      "[CV 2/3] END ..........C=0.01, solver=liblinear;, score=0.806 total time=   0.0s\n",
      "[CV 3/3] END ..........C=0.01, solver=liblinear;, score=0.792 total time=   0.0s\n",
      "[CV 1/3] END ................C=0.01, solver=sag;, score=0.782 total time=   0.0s\n",
      "[CV 2/3] END ................C=0.01, solver=sag;, score=0.801 total time=   0.0s\n",
      "[CV 3/3] END ................C=0.01, solver=sag;, score=0.787 total time=   0.0s\n",
      "[CV 1/3] END ...............C=0.01, solver=saga;, score=0.782 total time=   0.0s\n",
      "[CV 2/3] END ...............C=0.01, solver=saga;, score=0.801 total time=   0.0s\n",
      "[CV 3/3] END ...............C=0.01, solver=saga;, score=0.787 total time=   0.0s\n",
      "[CV 1/3] END ...........C=0.1, solver=newton-cg;, score=0.787 total time=   0.0s\n",
      "[CV 2/3] END ...........C=0.1, solver=newton-cg;, score=0.810 total time=   0.0s\n",
      "[CV 3/3] END ...........C=0.1, solver=newton-cg;, score=0.782 total time=   0.0s\n",
      "[CV 1/3] END ...............C=0.1, solver=lbfgs;, score=0.787 total time=   0.0s\n",
      "[CV 2/3] END ...............C=0.1, solver=lbfgs;, score=0.810 total time=   0.0s\n",
      "[CV 3/3] END ...............C=0.1, solver=lbfgs;, score=0.782 total time=   0.0s\n",
      "[CV 1/3] END ...........C=0.1, solver=liblinear;, score=0.787 total time=   0.0s\n",
      "[CV 2/3] END ...........C=0.1, solver=liblinear;, score=0.815 total time=   0.0s\n",
      "[CV 3/3] END ...........C=0.1, solver=liblinear;, score=0.787 total time=   0.0s\n",
      "[CV 1/3] END .................C=0.1, solver=sag;, score=0.787 total time=   0.0s\n",
      "[CV 2/3] END .................C=0.1, solver=sag;, score=0.810 total time=   0.0s\n",
      "[CV 3/3] END .................C=0.1, solver=sag;, score=0.782 total time=   0.0s\n",
      "[CV 1/3] END ................C=0.1, solver=saga;, score=0.787 total time=   0.0s\n",
      "[CV 2/3] END ................C=0.1, solver=saga;, score=0.810 total time=   0.0s\n",
      "[CV 3/3] END ................C=0.1, solver=saga;, score=0.782 total time=   0.0s\n",
      "[CV 1/3] END .............C=1, solver=newton-cg;, score=0.810 total time=   0.0s\n",
      "[CV 2/3] END .............C=1, solver=newton-cg;, score=0.824 total time=   0.0s\n",
      "[CV 3/3] END .............C=1, solver=newton-cg;, score=0.815 total time=   0.0s\n",
      "[CV 1/3] END .................C=1, solver=lbfgs;, score=0.810 total time=   0.0s\n",
      "[CV 2/3] END .................C=1, solver=lbfgs;, score=0.824 total time=   0.0s\n",
      "[CV 3/3] END .................C=1, solver=lbfgs;, score=0.815 total time=   0.0s\n",
      "[CV 1/3] END .............C=1, solver=liblinear;, score=0.810 total time=   0.0s\n",
      "[CV 2/3] END .............C=1, solver=liblinear;, score=0.824 total time=   0.0s\n",
      "[CV 3/3] END .............C=1, solver=liblinear;, score=0.815 total time=   0.0s\n",
      "[CV 1/3] END ...................C=1, solver=sag;, score=0.810 total time=   0.0s\n",
      "[CV 2/3] END ...................C=1, solver=sag;, score=0.824 total time=   0.0s\n",
      "[CV 3/3] END ...................C=1, solver=sag;, score=0.810 total time=   0.0s\n",
      "[CV 1/3] END ..................C=1, solver=saga;, score=0.810 total time=   0.0s\n",
      "[CV 2/3] END ..................C=1, solver=saga;, score=0.815 total time=   0.0s\n",
      "[CV 3/3] END ..................C=1, solver=saga;, score=0.796 total time=   0.0s\n"
     ]
    },
    {
     "data": {
      "text/html": [
       "<style>#sk-container-id-1 {color: black;background-color: white;}#sk-container-id-1 pre{padding: 0;}#sk-container-id-1 div.sk-toggleable {background-color: white;}#sk-container-id-1 label.sk-toggleable__label {cursor: pointer;display: block;width: 100%;margin-bottom: 0;padding: 0.3em;box-sizing: border-box;text-align: center;}#sk-container-id-1 label.sk-toggleable__label-arrow:before {content: \"▸\";float: left;margin-right: 0.25em;color: #696969;}#sk-container-id-1 label.sk-toggleable__label-arrow:hover:before {color: black;}#sk-container-id-1 div.sk-estimator:hover label.sk-toggleable__label-arrow:before {color: black;}#sk-container-id-1 div.sk-toggleable__content {max-height: 0;max-width: 0;overflow: hidden;text-align: left;background-color: #f0f8ff;}#sk-container-id-1 div.sk-toggleable__content pre {margin: 0.2em;color: black;border-radius: 0.25em;background-color: #f0f8ff;}#sk-container-id-1 input.sk-toggleable__control:checked~div.sk-toggleable__content {max-height: 200px;max-width: 100%;overflow: auto;}#sk-container-id-1 input.sk-toggleable__control:checked~label.sk-toggleable__label-arrow:before {content: \"▾\";}#sk-container-id-1 div.sk-estimator input.sk-toggleable__control:checked~label.sk-toggleable__label {background-color: #d4ebff;}#sk-container-id-1 div.sk-label input.sk-toggleable__control:checked~label.sk-toggleable__label {background-color: #d4ebff;}#sk-container-id-1 input.sk-hidden--visually {border: 0;clip: rect(1px 1px 1px 1px);clip: rect(1px, 1px, 1px, 1px);height: 1px;margin: -1px;overflow: hidden;padding: 0;position: absolute;width: 1px;}#sk-container-id-1 div.sk-estimator {font-family: monospace;background-color: #f0f8ff;border: 1px dotted black;border-radius: 0.25em;box-sizing: border-box;margin-bottom: 0.5em;}#sk-container-id-1 div.sk-estimator:hover {background-color: #d4ebff;}#sk-container-id-1 div.sk-parallel-item::after {content: \"\";width: 100%;border-bottom: 1px solid gray;flex-grow: 1;}#sk-container-id-1 div.sk-label:hover label.sk-toggleable__label {background-color: #d4ebff;}#sk-container-id-1 div.sk-serial::before {content: \"\";position: absolute;border-left: 1px solid gray;box-sizing: border-box;top: 0;bottom: 0;left: 50%;z-index: 0;}#sk-container-id-1 div.sk-serial {display: flex;flex-direction: column;align-items: center;background-color: white;padding-right: 0.2em;padding-left: 0.2em;position: relative;}#sk-container-id-1 div.sk-item {position: relative;z-index: 1;}#sk-container-id-1 div.sk-parallel {display: flex;align-items: stretch;justify-content: center;background-color: white;position: relative;}#sk-container-id-1 div.sk-item::before, #sk-container-id-1 div.sk-parallel-item::before {content: \"\";position: absolute;border-left: 1px solid gray;box-sizing: border-box;top: 0;bottom: 0;left: 50%;z-index: -1;}#sk-container-id-1 div.sk-parallel-item {display: flex;flex-direction: column;z-index: 1;position: relative;background-color: white;}#sk-container-id-1 div.sk-parallel-item:first-child::after {align-self: flex-end;width: 50%;}#sk-container-id-1 div.sk-parallel-item:last-child::after {align-self: flex-start;width: 50%;}#sk-container-id-1 div.sk-parallel-item:only-child::after {width: 0;}#sk-container-id-1 div.sk-dashed-wrapped {border: 1px dashed gray;margin: 0 0.4em 0.5em 0.4em;box-sizing: border-box;padding-bottom: 0.4em;background-color: white;}#sk-container-id-1 div.sk-label label {font-family: monospace;font-weight: bold;display: inline-block;line-height: 1.2em;}#sk-container-id-1 div.sk-label-container {text-align: center;}#sk-container-id-1 div.sk-container {/* jupyter's `normalize.less` sets `[hidden] { display: none; }` but bootstrap.min.css set `[hidden] { display: none !important; }` so we also need the `!important` here to be able to override the default hidden behavior on the sphinx rendered scikit-learn.org. See: https://github.com/scikit-learn/scikit-learn/issues/21755 */display: inline-block !important;position: relative;}#sk-container-id-1 div.sk-text-repr-fallback {display: none;}</style><div id=\"sk-container-id-1\" class=\"sk-top-container\"><div class=\"sk-text-repr-fallback\"><pre>GridSearchCV(cv=3, estimator=LogisticRegression(),\n",
       "             param_grid={&#x27;C&#x27;: [0.001, 0.01, 0.1, 1],\n",
       "                         &#x27;solver&#x27;: [&#x27;newton-cg&#x27;, &#x27;lbfgs&#x27;, &#x27;liblinear&#x27;, &#x27;sag&#x27;,\n",
       "                                    &#x27;saga&#x27;]},\n",
       "             scoring=&#x27;accuracy&#x27;, verbose=3)</pre><b>In a Jupyter environment, please rerun this cell to show the HTML representation or trust the notebook. <br />On GitHub, the HTML representation is unable to render, please try loading this page with nbviewer.org.</b></div><div class=\"sk-container\" hidden><div class=\"sk-item sk-dashed-wrapped\"><div class=\"sk-label-container\"><div class=\"sk-label sk-toggleable\"><input class=\"sk-toggleable__control sk-hidden--visually\" id=\"sk-estimator-id-1\" type=\"checkbox\" ><label for=\"sk-estimator-id-1\" class=\"sk-toggleable__label sk-toggleable__label-arrow\">GridSearchCV</label><div class=\"sk-toggleable__content\"><pre>GridSearchCV(cv=3, estimator=LogisticRegression(),\n",
       "             param_grid={&#x27;C&#x27;: [0.001, 0.01, 0.1, 1],\n",
       "                         &#x27;solver&#x27;: [&#x27;newton-cg&#x27;, &#x27;lbfgs&#x27;, &#x27;liblinear&#x27;, &#x27;sag&#x27;,\n",
       "                                    &#x27;saga&#x27;]},\n",
       "             scoring=&#x27;accuracy&#x27;, verbose=3)</pre></div></div></div><div class=\"sk-parallel\"><div class=\"sk-parallel-item\"><div class=\"sk-item\"><div class=\"sk-label-container\"><div class=\"sk-label sk-toggleable\"><input class=\"sk-toggleable__control sk-hidden--visually\" id=\"sk-estimator-id-2\" type=\"checkbox\" ><label for=\"sk-estimator-id-2\" class=\"sk-toggleable__label sk-toggleable__label-arrow\">estimator: LogisticRegression</label><div class=\"sk-toggleable__content\"><pre>LogisticRegression()</pre></div></div></div><div class=\"sk-serial\"><div class=\"sk-item\"><div class=\"sk-estimator sk-toggleable\"><input class=\"sk-toggleable__control sk-hidden--visually\" id=\"sk-estimator-id-3\" type=\"checkbox\" ><label for=\"sk-estimator-id-3\" class=\"sk-toggleable__label sk-toggleable__label-arrow\">LogisticRegression</label><div class=\"sk-toggleable__content\"><pre>LogisticRegression()</pre></div></div></div></div></div></div></div></div></div></div>"
      ],
      "text/plain": [
       "GridSearchCV(cv=3, estimator=LogisticRegression(),\n",
       "             param_grid={'C': [0.001, 0.01, 0.1, 1],\n",
       "                         'solver': ['newton-cg', 'lbfgs', 'liblinear', 'sag',\n",
       "                                    'saga']},\n",
       "             scoring='accuracy', verbose=3)"
      ]
     },
     "execution_count": 68,
     "metadata": {},
     "output_type": "execute_result"
    }
   ],
   "source": [
    "grid={\n",
    "    \"C\":[0.001,0.01,0.1,1],\n",
    "    \"solver\":[\"newton-cg\",\"lbfgs\",\"liblinear\",\"sag\",\"saga\"]\n",
    "}\n",
    "\n",
    "GS=GridSearchCV(log_claf,grid,verbose=3,cv=3,scoring=\"accuracy\")\n",
    "GS.fit(X_train_scale,y_train)\n",
    "\n"
   ]
  },
  {
   "cell_type": "code",
   "execution_count": 69,
   "id": "c0d958ee",
   "metadata": {},
   "outputs": [
    {
     "data": {
      "text/plain": [
       "{'C': 1, 'solver': 'newton-cg'}"
      ]
     },
     "execution_count": 69,
     "metadata": {},
     "output_type": "execute_result"
    }
   ],
   "source": [
    "GS.best_params_"
   ]
  },
  {
   "cell_type": "code",
   "execution_count": 70,
   "id": "496972e6",
   "metadata": {},
   "outputs": [],
   "source": [
    "model=LogisticRegression(class_weight=\"balanced\",penalty=\"l2\",solver='newton-cg',C=1 )"
   ]
  },
  {
   "cell_type": "code",
   "execution_count": 71,
   "id": "cbf2a2cc",
   "metadata": {},
   "outputs": [
    {
     "data": {
      "text/plain": [
       "0.8209876543209876"
      ]
     },
     "execution_count": 71,
     "metadata": {},
     "output_type": "execute_result"
    }
   ],
   "source": [
    "model.fit(X_train_scale,y_train)\n",
    "model.score(X_train_scale,y_train)"
   ]
  },
  {
   "cell_type": "code",
   "execution_count": 72,
   "id": "efea9a63",
   "metadata": {},
   "outputs": [
    {
     "data": {
      "text/plain": [
       "0.8650306748466258"
      ]
     },
     "execution_count": 72,
     "metadata": {},
     "output_type": "execute_result"
    }
   ],
   "source": [
    "pred=model.predict(X_test_scale)\n",
    "accuracy_score(y_test,pred)"
   ]
  },
  {
   "cell_type": "code",
   "execution_count": 73,
   "id": "8931d69b",
   "metadata": {},
   "outputs": [
    {
     "data": {
      "text/plain": [
       "<AxesSubplot:>"
      ]
     },
     "execution_count": 73,
     "metadata": {},
     "output_type": "execute_result"
    },
    {
     "data": {
      "image/png": "[encoded data removed]",
      "text/plain": [
       "<Figure size 432x288 with 2 Axes>"
      ]
     },
     "metadata": {
      "needs_background": "light"
     },
     "output_type": "display_data"
    }
   ],
   "source": [
    "sns.heatmap(confusion_matrix(y_test,pred),annot=True)"
   ]
  },
  {
   "cell_type": "code",
   "execution_count": 74,
   "id": "12a83abb",
   "metadata": {},
   "outputs": [],
   "source": [
    "# test data\n",
    "y_final=df1.drop(\"Severity\",axis=1)\n",
    "y_org=df1[\"Severity\"]"
   ]
  },
  {
   "cell_type": "code",
   "execution_count": 75,
   "id": "3737e455",
   "metadata": {},
   "outputs": [],
   "source": [
    "y_final_scale=std.fit_transform(y_final)\n",
    "y_final_pred=model.predict(y_final_scale)\n",
    "log_acc=accuracy_score(y_org,y_final_pred)"
   ]
  },
  {
   "cell_type": "code",
   "execution_count": 76,
   "id": "43370d1c",
   "metadata": {},
   "outputs": [
    {
     "data": {
      "text/plain": [
       "(0.821917808219178, 0.8333333333333334)"
      ]
     },
     "execution_count": 76,
     "metadata": {},
     "output_type": "execute_result"
    }
   ],
   "source": [
    "precision_score(y_org,y_final_pred),recall_score(y_org,y_final_pred)\n"
   ]
  },
  {
   "cell_type": "code",
   "execution_count": 77,
   "id": "67e75e8b",
   "metadata": {},
   "outputs": [
    {
     "data": {
      "text/plain": [
       "<AxesSubplot:>"
      ]
     },
     "execution_count": 77,
     "metadata": {},
     "output_type": "execute_result"
    },
    {
     "data": {
      "image/png": "[encoded data removed]",
      "text/plain": [
       "<Figure size 432x288 with 2 Axes>"
      ]
     },
     "metadata": {
      "needs_background": "light"
     },
     "output_type": "display_data"
    }
   ],
   "source": [
    "sns.heatmap(confusion_matrix(y_org,y_final_pred),annot=True)"
   ]
  },
  {
   "cell_type": "code",
   "execution_count": 78,
   "id": "674c8776",
   "metadata": {},
   "outputs": [],
   "source": [
    "from sklearn.svm import SVC\n"
   ]
  },
  {
   "cell_type": "code",
   "execution_count": 79,
   "id": "da3439de",
   "metadata": {},
   "outputs": [],
   "source": [
    "svm=SVC()"
   ]
  },
  {
   "cell_type": "code",
   "execution_count": 80,
   "id": "39723bf7",
   "metadata": {},
   "outputs": [
    {
     "data": {
      "text/plain": [
       "array([0.77777778, 0.80092593, 0.77314815])"
      ]
     },
     "execution_count": 80,
     "metadata": {},
     "output_type": "execute_result"
    }
   ],
   "source": [
    "cross_val_score(svm,X_train_scale,y_train,scoring=\"accuracy\",cv=3)"
   ]
  },
  {
   "cell_type": "code",
   "execution_count": 81,
   "id": "43cf10fc",
   "metadata": {},
   "outputs": [
    {
     "data": {
      "text/plain": [
       "0.8256172839506173"
      ]
     },
     "execution_count": 81,
     "metadata": {},
     "output_type": "execute_result"
    }
   ],
   "source": [
    "svm_claf=SVC()\n",
    "svm_claf.fit(X_train_scale,y_train)\n",
    "svm_claf.score(X_train_scale,y_train)"
   ]
  },
  {
   "cell_type": "code",
   "execution_count": 82,
   "id": "c0b54d9c",
   "metadata": {},
   "outputs": [
    {
     "data": {
      "text/plain": [
       "0.8588957055214724"
      ]
     },
     "execution_count": 82,
     "metadata": {},
     "output_type": "execute_result"
    }
   ],
   "source": [
    "pred=svm_claf.predict(X_test_scale)\n",
    "accuracy_score(y_test,pred)"
   ]
  },
  {
   "cell_type": "code",
   "execution_count": 83,
   "id": "5fb0344c",
   "metadata": {},
   "outputs": [
    {
     "data": {
      "text/html": [
       "<style>#sk-container-id-2 {color: black;background-color: white;}#sk-container-id-2 pre{padding: 0;}#sk-container-id-2 div.sk-toggleable {background-color: white;}#sk-container-id-2 label.sk-toggleable__label {cursor: pointer;display: block;width: 100%;margin-bottom: 0;padding: 0.3em;box-sizing: border-box;text-align: center;}#sk-container-id-2 label.sk-toggleable__label-arrow:before {content: \"▸\";float: left;margin-right: 0.25em;color: #696969;}#sk-container-id-2 label.sk-toggleable__label-arrow:hover:before {color: black;}#sk-container-id-2 div.sk-estimator:hover label.sk-toggleable__label-arrow:before {color: black;}#sk-container-id-2 div.sk-toggleable__content {max-height: 0;max-width: 0;overflow: hidden;text-align: left;background-color: #f0f8ff;}#sk-container-id-2 div.sk-toggleable__content pre {margin: 0.2em;color: black;border-radius: 0.25em;background-color: #f0f8ff;}#sk-container-id-2 input.sk-toggleable__control:checked~div.sk-toggleable__content {max-height: 200px;max-width: 100%;overflow: auto;}#sk-container-id-2 input.sk-toggleable__control:checked~label.sk-toggleable__label-arrow:before {content: \"▾\";}#sk-container-id-2 div.sk-estimator input.sk-toggleable__control:checked~label.sk-toggleable__label {background-color: #d4ebff;}#sk-container-id-2 div.sk-label input.sk-toggleable__control:checked~label.sk-toggleable__label {background-color: #d4ebff;}#sk-container-id-2 input.sk-hidden--visually {border: 0;clip: rect(1px 1px 1px 1px);clip: rect(1px, 1px, 1px, 1px);height: 1px;margin: -1px;overflow: hidden;padding: 0;position: absolute;width: 1px;}#sk-container-id-2 div.sk-estimator {font-family: monospace;background-color: #f0f8ff;border: 1px dotted black;border-radius: 0.25em;box-sizing: border-box;margin-bottom: 0.5em;}#sk-container-id-2 div.sk-estimator:hover {background-color: #d4ebff;}#sk-container-id-2 div.sk-parallel-item::after {content: \"\";width: 100%;border-bottom: 1px solid gray;flex-grow: 1;}#sk-container-id-2 div.sk-label:hover label.sk-toggleable__label {background-color: #d4ebff;}#sk-container-id-2 div.sk-serial::before {content: \"\";position: absolute;border-left: 1px solid gray;box-sizing: border-box;top: 0;bottom: 0;left: 50%;z-index: 0;}#sk-container-id-2 div.sk-serial {display: flex;flex-direction: column;align-items: center;background-color: white;padding-right: 0.2em;padding-left: 0.2em;position: relative;}#sk-container-id-2 div.sk-item {position: relative;z-index: 1;}#sk-container-id-2 div.sk-parallel {display: flex;align-items: stretch;justify-content: center;background-color: white;position: relative;}#sk-container-id-2 div.sk-item::before, #sk-container-id-2 div.sk-parallel-item::before {content: \"\";position: absolute;border-left: 1px solid gray;box-sizing: border-box;top: 0;bottom: 0;left: 50%;z-index: -1;}#sk-container-id-2 div.sk-parallel-item {display: flex;flex-direction: column;z-index: 1;position: relative;background-color: white;}#sk-container-id-2 div.sk-parallel-item:first-child::after {align-self: flex-end;width: 50%;}#sk-container-id-2 div.sk-parallel-item:last-child::after {align-self: flex-start;width: 50%;}#sk-container-id-2 div.sk-parallel-item:only-child::after {width: 0;}#sk-container-id-2 div.sk-dashed-wrapped {border: 1px dashed gray;margin: 0 0.4em 0.5em 0.4em;box-sizing: border-box;padding-bottom: 0.4em;background-color: white;}#sk-container-id-2 div.sk-label label {font-family: monospace;font-weight: bold;display: inline-block;line-height: 1.2em;}#sk-container-id-2 div.sk-label-container {text-align: center;}#sk-container-id-2 div.sk-container {/* jupyter's `normalize.less` sets `[hidden] { display: none; }` but bootstrap.min.css set `[hidden] { display: none !important; }` so we also need the `!important` here to be able to override the default hidden behavior on the sphinx rendered scikit-learn.org. See: https://github.com/scikit-learn/scikit-learn/issues/21755 */display: inline-block !important;position: relative;}#sk-container-id-2 div.sk-text-repr-fallback {display: none;}</style><div id=\"sk-container-id-2\" class=\"sk-top-container\"><div class=\"sk-text-repr-fallback\"><pre>GridSearchCV(cv=3, estimator=SVC(),\n",
       "             param_grid={&#x27;C&#x27;: [0.001, 0.01, 0.1, 1],\n",
       "                         &#x27;kernel&#x27;: [&#x27;linear&#x27;, &#x27;poly&#x27;, &#x27;rbf&#x27;, &#x27;sigmoid&#x27;]},\n",
       "             scoring=&#x27;accuracy&#x27;)</pre><b>In a Jupyter environment, please rerun this cell to show the HTML representation or trust the notebook. <br />On GitHub, the HTML representation is unable to render, please try loading this page with nbviewer.org.</b></div><div class=\"sk-container\" hidden><div class=\"sk-item sk-dashed-wrapped\"><div class=\"sk-label-container\"><div class=\"sk-label sk-toggleable\"><input class=\"sk-toggleable__control sk-hidden--visually\" id=\"sk-estimator-id-4\" type=\"checkbox\" ><label for=\"sk-estimator-id-4\" class=\"sk-toggleable__label sk-toggleable__label-arrow\">GridSearchCV</label><div class=\"sk-toggleable__content\"><pre>GridSearchCV(cv=3, estimator=SVC(),\n",
       "             param_grid={&#x27;C&#x27;: [0.001, 0.01, 0.1, 1],\n",
       "                         &#x27;kernel&#x27;: [&#x27;linear&#x27;, &#x27;poly&#x27;, &#x27;rbf&#x27;, &#x27;sigmoid&#x27;]},\n",
       "             scoring=&#x27;accuracy&#x27;)</pre></div></div></div><div class=\"sk-parallel\"><div class=\"sk-parallel-item\"><div class=\"sk-item\"><div class=\"sk-label-container\"><div class=\"sk-label sk-toggleable\"><input class=\"sk-toggleable__control sk-hidden--visually\" id=\"sk-estimator-id-5\" type=\"checkbox\" ><label for=\"sk-estimator-id-5\" class=\"sk-toggleable__label sk-toggleable__label-arrow\">estimator: SVC</label><div class=\"sk-toggleable__content\"><pre>SVC()</pre></div></div></div><div class=\"sk-serial\"><div class=\"sk-item\"><div class=\"sk-estimator sk-toggleable\"><input class=\"sk-toggleable__control sk-hidden--visually\" id=\"sk-estimator-id-6\" type=\"checkbox\" ><label for=\"sk-estimator-id-6\" class=\"sk-toggleable__label sk-toggleable__label-arrow\">SVC</label><div class=\"sk-toggleable__content\"><pre>SVC()</pre></div></div></div></div></div></div></div></div></div></div>"
      ],
      "text/plain": [
       "GridSearchCV(cv=3, estimator=SVC(),\n",
       "             param_grid={'C': [0.001, 0.01, 0.1, 1],\n",
       "                         'kernel': ['linear', 'poly', 'rbf', 'sigmoid']},\n",
       "             scoring='accuracy')"
      ]
     },
     "execution_count": 83,
     "metadata": {},
     "output_type": "execute_result"
    }
   ],
   "source": [
    "grid={\n",
    "    \"C\":[0.001,0.01,0.1,1],\n",
    "    \"kernel\": [\"linear\", \"poly\", \"rbf\", \"sigmoid\"],\n",
    "}\n",
    "\n",
    "GS=GridSearchCV(svm_claf,grid,cv=3,scoring=\"accuracy\")\n",
    "GS.fit(X_train_scale,y_train)"
   ]
  },
  {
   "cell_type": "code",
   "execution_count": 84,
   "id": "45727cdc",
   "metadata": {},
   "outputs": [
    {
     "data": {
      "text/plain": [
       "0.8209876543209877"
      ]
     },
     "execution_count": 84,
     "metadata": {},
     "output_type": "execute_result"
    }
   ],
   "source": [
    "GS.best_score_"
   ]
  },
  {
   "cell_type": "code",
   "execution_count": 85,
   "id": "b1e5e7e2",
   "metadata": {},
   "outputs": [
    {
     "data": {
      "text/plain": [
       "0.8209876543209876"
      ]
     },
     "execution_count": 85,
     "metadata": {},
     "output_type": "execute_result"
    }
   ],
   "source": [
    "model_svm=SVC(kernel=\"linear\",C=1 )\n",
    "model_svm.fit(X_train_scale,y_train)\n",
    "model_svm.score(X_train_scale,y_train)"
   ]
  },
  {
   "cell_type": "code",
   "execution_count": 86,
   "id": "e6241d25",
   "metadata": {},
   "outputs": [
    {
     "data": {
      "text/plain": [
       "0.8650306748466258"
      ]
     },
     "execution_count": 86,
     "metadata": {},
     "output_type": "execute_result"
    }
   ],
   "source": [
    "pred=model_svm.predict(X_test_scale)\n",
    "accuracy_score(y_test,pred)"
   ]
  },
  {
   "cell_type": "code",
   "execution_count": 87,
   "id": "38649ee8",
   "metadata": {},
   "outputs": [
    {
     "data": {
      "text/plain": [
       "<AxesSubplot:>"
      ]
     },
     "execution_count": 87,
     "metadata": {},
     "output_type": "execute_result"
    },
    {
     "data": {
      "image/png": "[encoded data removed]",
      "text/plain": [
       "<Figure size 432x288 with 2 Axes>"
      ]
     },
     "metadata": {
      "needs_background": "light"
     },
     "output_type": "display_data"
    }
   ],
   "source": [
    "sns.heatmap(confusion_matrix(y_test,pred),annot=True)"
   ]
  },
  {
   "cell_type": "code",
   "execution_count": 88,
   "id": "d1230f74",
   "metadata": {},
   "outputs": [
    {
     "data": {
      "text/plain": [
       "0.76"
      ]
     },
     "execution_count": 88,
     "metadata": {},
     "output_type": "execute_result"
    }
   ],
   "source": [
    "y_final_pred=model_svm.predict(y_final_scale)\n",
    "accuracy_score(y_org,y_final_pred)"
   ]
  },
  {
   "cell_type": "code",
   "execution_count": 89,
   "id": "b3730741",
   "metadata": {},
   "outputs": [
    {
     "data": {
      "text/plain": [
       "<AxesSubplot:>"
      ]
     },
     "execution_count": 89,
     "metadata": {},
     "output_type": "execute_result"
    },
    {
     "data": {
      "image/png": "[encoded data removed]",
      "text/plain": [
       "<Figure size 432x288 with 2 Axes>"
      ]
     },
     "metadata": {
      "needs_background": "light"
     },
     "output_type": "display_data"
    }
   ],
   "source": [
    "sns.heatmap(confusion_matrix(y_org,y_final_pred),annot=True)"
   ]
  },
  {
   "cell_type": "code",
   "execution_count": 90,
   "id": "17344937",
   "metadata": {},
   "outputs": [
    {
     "data": {
      "text/plain": [
       "(1.0, 0.5, 0.6666666666666666)"
      ]
     },
     "execution_count": 90,
     "metadata": {},
     "output_type": "execute_result"
    }
   ],
   "source": [
    "precision_score(y_org,y_final_pred),recall_score(y_org,y_final_pred),f1_score(y_org,y_final_pred)"
   ]
  },
  {
   "cell_type": "code",
   "execution_count": 91,
   "id": "8cf93eb0",
   "metadata": {},
   "outputs": [],
   "source": [
    "#### KNN\n",
    "from sklearn.neighbors import KNeighborsClassifier\n"
   ]
  },
  {
   "cell_type": "code",
   "execution_count": 92,
   "id": "27268527",
   "metadata": {},
   "outputs": [],
   "source": [
    "knn=KNeighborsClassifier()"
   ]
  },
  {
   "cell_type": "code",
   "execution_count": 93,
   "id": "80d9a69c",
   "metadata": {},
   "outputs": [
    {
     "data": {
      "text/plain": [
       "array([0.76153846, 0.77692308, 0.83076923, 0.76744186, 0.7751938 ])"
      ]
     },
     "execution_count": 93,
     "metadata": {},
     "output_type": "execute_result"
    }
   ],
   "source": [
    "cross_val_score(knn,X_train_scale,y_train,scoring=\"accuracy\",cv=5)"
   ]
  },
  {
   "cell_type": "code",
   "execution_count": 94,
   "id": "75009efb",
   "metadata": {},
   "outputs": [
    {
     "data": {
      "text/plain": [
       "0.8503086419753086"
      ]
     },
     "execution_count": 94,
     "metadata": {},
     "output_type": "execute_result"
    }
   ],
   "source": [
    "knn_claf=KNeighborsClassifier(n_neighbors=5)\n",
    "knn_claf.fit(X_train_scale,y_train)\n",
    "knn_claf.score(X_train_scale,y_train)"
   ]
  },
  {
   "cell_type": "code",
   "execution_count": 95,
   "id": "ecd24ac4",
   "metadata": {},
   "outputs": [
    {
     "data": {
      "text/plain": [
       "0.8282208588957055"
      ]
     },
     "execution_count": 95,
     "metadata": {},
     "output_type": "execute_result"
    }
   ],
   "source": [
    "pred=knn_claf.predict(X_test_scale)\n",
    "accuracy_score(y_test,pred)"
   ]
  },
  {
   "cell_type": "code",
   "execution_count": 96,
   "id": "6be37259",
   "metadata": {},
   "outputs": [
    {
     "data": {
      "text/plain": [
       "<AxesSubplot:>"
      ]
     },
     "execution_count": 96,
     "metadata": {},
     "output_type": "execute_result"
    },
    {
     "data": {
      "image/png": "[encoded data removed]",
      "text/plain": [
       "<Figure size 432x288 with 2 Axes>"
      ]
     },
     "metadata": {
      "needs_background": "light"
     },
     "output_type": "display_data"
    }
   ],
   "source": [
    "sns.heatmap(confusion_matrix(y_test,pred),annot=True)"
   ]
  },
  {
   "cell_type": "code",
   "execution_count": 97,
   "id": "4ff89ca4",
   "metadata": {},
   "outputs": [
    {
     "data": {
      "text/plain": [
       "0.7"
      ]
     },
     "execution_count": 97,
     "metadata": {},
     "output_type": "execute_result"
    }
   ],
   "source": [
    "y_final_pred=knn_claf.predict(y_final_scale)\n",
    "accuracy_score(y_org,y_final_pred)"
   ]
  },
  {
   "cell_type": "code",
   "execution_count": 98,
   "id": "db4c4895",
   "metadata": {},
   "outputs": [
    {
     "data": {
      "text/plain": [
       "<AxesSubplot:>"
      ]
     },
     "execution_count": 98,
     "metadata": {},
     "output_type": "execute_result"
    },
    {
     "data": {
      "image/png": "[encoded data removed]",
      "text/plain": [
       "<Figure size 432x288 with 2 Axes>"
      ]
     },
     "metadata": {
      "needs_background": "light"
     },
     "output_type": "display_data"
    }
   ],
   "source": [
    "sns.heatmap(confusion_matrix(y_org,y_final_pred),annot=True)"
   ]
  },
  {
   "cell_type": "code",
   "execution_count": 99,
   "id": "eb6390c9",
   "metadata": {},
   "outputs": [
    {
     "data": {
      "text/plain": [
       "(0.7288135593220338, 0.5972222222222222)"
      ]
     },
     "execution_count": 99,
     "metadata": {},
     "output_type": "execute_result"
    }
   ],
   "source": [
    "precision_score(y_org,y_final_pred),recall_score(y_org,y_final_pred)"
   ]
  },
  {
   "cell_type": "code",
   "execution_count": 100,
   "id": "e4049b4d",
   "metadata": {},
   "outputs": [],
   "source": [
    "from sklearn.ensemble import RandomForestClassifier\n",
    "rf=RandomForestClassifier(n_estimators=200)"
   ]
  },
  {
   "cell_type": "code",
   "execution_count": 101,
   "id": "70025513",
   "metadata": {},
   "outputs": [
    {
     "data": {
      "text/plain": [
       "array([0.83846154, 0.76153846, 0.82307692, 0.75968992, 0.75968992])"
      ]
     },
     "execution_count": 101,
     "metadata": {},
     "output_type": "execute_result"
    }
   ],
   "source": [
    "rf.fit(X_train,y_train)\n",
    "cross_val_score(rf,X_train,y_train,cv=5,scoring=\"accuracy\")"
   ]
  },
  {
   "cell_type": "code",
   "execution_count": 102,
   "id": "96257b08",
   "metadata": {},
   "outputs": [
    {
     "data": {
      "text/plain": [
       "0.852760736196319"
      ]
     },
     "execution_count": 102,
     "metadata": {},
     "output_type": "execute_result"
    }
   ],
   "source": [
    "pred=rf.predict(X_test)\n",
    "accuracy_score(y_test,pred)"
   ]
  },
  {
   "cell_type": "code",
   "execution_count": 103,
   "id": "fb1787c9",
   "metadata": {},
   "outputs": [],
   "source": [
    "# grid={\n",
    "#     \"n_estimators\":[100,200],\n",
    "# # Number of features to consider at every split\n",
    "# \"max_features\":['auto', 'sqrt'],\n",
    "# # Maximum number of levels in tree\n",
    "# \"max_depth\":[int(x) for x in np.linspace(5, 30, num = 6)],\n",
    "# # max_depth.append(None)\n",
    "# # Minimum number of samples required to split a node\n",
    "# \"min_samples_split\":[2, 5, 10, 15, 100],\n",
    "# # Minimum number of samples required at each leaf node\n",
    "# \"min_samples_leaf\":[1, 2, 5, 10]\n",
    "    \n",
    "# }"
   ]
  },
  {
   "cell_type": "code",
   "execution_count": 104,
   "id": "e4a876f6",
   "metadata": {},
   "outputs": [],
   "source": [
    "#GS=GridSearchCV(rf,grid,cv=5,scoring=\"accuracy\",n_jobs=-1)"
   ]
  },
  {
   "cell_type": "code",
   "execution_count": 105,
   "id": "2c68b229",
   "metadata": {},
   "outputs": [],
   "source": [
    "#GS.fit(X_train,y_train)"
   ]
  },
  {
   "cell_type": "code",
   "execution_count": 106,
   "id": "b3ebfcf5",
   "metadata": {},
   "outputs": [
    {
     "data": {
      "text/plain": [
       "0.62"
      ]
     },
     "execution_count": 106,
     "metadata": {},
     "output_type": "execute_result"
    }
   ],
   "source": [
    "y_final=rf.predict(y_final)\n",
    "accuracy_score(y_org,y_final)"
   ]
  },
  {
   "cell_type": "code",
   "execution_count": 107,
   "id": "d1082fe5",
   "metadata": {},
   "outputs": [
    {
     "data": {
      "text/plain": [
       "<AxesSubplot:>"
      ]
     },
     "execution_count": 107,
     "metadata": {},
     "output_type": "execute_result"
    },
    {
     "data": {
      "image/png": "[encoded data removed]",
      "text/plain": [
       "<Figure size 432x288 with 2 Axes>"
      ]
     },
     "metadata": {
      "needs_background": "light"
     },
     "output_type": "display_data"
    }
   ],
   "source": [
    "sns.heatmap(confusion_matrix(y_org,y_final),annot=True)"
   ]
  },
  {
   "cell_type": "code",
   "execution_count": 108,
   "id": "05345391",
   "metadata": {},
   "outputs": [
    {
     "data": {
      "text/plain": [
       "(0.7272727272727273, 0.3333333333333333)"
      ]
     },
     "execution_count": 108,
     "metadata": {},
     "output_type": "execute_result"
    }
   ],
   "source": [
    "precision_score(y_org,y_final),recall_score(y_org,y_final)"
   ]
  },
  {
   "cell_type": "code",
   "execution_count": null,
   "id": "780a0f63",
   "metadata": {},
   "outputs": [],
   "source": []
  },
  {
   "cell_type": "code",
   "execution_count": null,
   "id": "6cec0214",
   "metadata": {},
   "outputs": [],
   "source": []
  },
  {
   "cell_type": "markdown",
   "id": "d4f69ba9",
   "metadata": {},
   "source": [
    "## 1. Build Statistical Classification model to detect severity\n",
    "### I have try with logistic,svm,knn,random forest i got the better result with logistic regression\n",
    "\n",
    "## 2. What considerations have been used for model selection?\n",
    "### performance,Explainability,Complexity,Dataset size,Training time and cost,Dimensionality\n",
    "\n",
    "## 3. What features would you want to create for your prediction model based on data provided?\n",
    "### By using Age feature i have created categorical age_group people for getting insight i.e  how many age_group people having  Severity  are maligant and benign which is shown in EDA\n",
    "\n",
    "\n",
    "## 4. How have you performed hyper-parameter tuning and model optimization? What are the reasons for your decision choices for these steps?\n",
    "### To reduce the overfitting and under fitting and model is well genralise with unseen data.\n",
    "\n",
    "## 5. What is your model evaluation criteria? What are the assumptions and limitations of your approach?\n",
    "### model evaluation criteria is recall is very important in this case limitation is we will not capture the irreducible error in present in the data.\n",
    "\n",
    "## 6. Determine whether the data is normally distributed visually and statistically.\n",
    "### data is non normally distributed which u can seen above EDA\n",
    "\n",
    "## 7. Comment on EDA of variables in data.\n",
    "### Uni-variate analysis¶\n",
    "### count of irregular is more as compare to other Shape.\n",
    "### count of circumscribed is more as compare to other Margin\n",
    "### count of low is higher as compare to other Mass_Density\n",
    "### count of age_group is involved more people age in between 40-80 years.\n",
    "\n",
    "## Bi-variate analysis\n",
    "### if Shape irrgeular having more likly to severity is maligant, out of 100% there is 78% are maligant and so on.\n",
    "### if the Margin spiculated having more likly to severity is maligant,out of 100% there is 85% are maligant and so on\n",
    "### if the Mass_Density is low having more likly to be Severity is maligant out of 100% there is 49% are maligant and so on\n",
    "### people having age group of 60-80 and 80-100 having more likly to be Severity is maligant.\n",
    "### Numercal column are not correlated to each other\n",
    "### if Bi_Rads asssetemnt more than 5 having more likly to be Severity is maligant.\n",
    "\n",
    "## 8. How are you detecting and treating outliers in the dataset for better convergence?\n",
    "### first of all by using boxplot and distribution plot i have visualize the outlier after visualizing the by using the IQR method to detect the outlier after detecting the outlier i have also try with transformation technique but i got the better result with imputation outlier with upper and lower limit. \n",
    "\n",
    "## 9. What techniques have been used for treating missing values to prepare features for model building?\n",
    "### for categorical column i have used mode and for numerical column i have used the knn imputer after removing the outlier i have used to fill the missing value  because to avoid the impact of outlier on the data of age column.\n",
    "\n",
    "## 10. What is the distribution of target with respect to categorical columns?\n",
    "### already mention in eda categorical column with target column\n",
    "\n",
    "## 11. Comment on any other observations or recommendations based on your analysis.\n",
    "### try with other algorthm like Gradient boost XGboost,catboost for better result with feature selection technique.\n"
   ]
  }
 ],
 "metadata": {
  "kernelspec": {
   "display_name": "Python 3 (ipykernel)",
   "language": "python",
   "name": "python3"
  },
  "language_info": {
   "codemirror_mode": {
    "name": "ipython",
    "version": 3
   },
   "file_extension": ".py",
   "mimetype": "text/x-python",
   "name": "python",
   "nbconvert_exporter": "python",
   "pygments_lexer": "ipython3",
   "version": "3.8.5"
  }
 },
 "nbformat": 4,
 "nbformat_minor": 5
}
